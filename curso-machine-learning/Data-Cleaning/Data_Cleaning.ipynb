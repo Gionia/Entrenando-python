{
 "cells": [
  {
   "cell_type": "code",
   "execution_count": 41,
   "metadata": {},
   "outputs": [],
   "source": [
    "import pandas as pd\n",
    "def first_view(df):\n",
    "    \"\"\"This function gives the shape of the DataFrame and the sum of the NA values\n",
    "        across the columns\"\"\"\n",
    "    sep = \"/-/-/-/-/-/-/-//-/-/-/-/-/-/-/-//-/-/-/-/-/-/-//-/-/-/-/-/-/-/\\n\"\n",
    "    print(f\"The size of DataFrame is:{df.shape}\\n\")\n",
    "    print(f\"{sep}\")\n",
    "    print(f\" The total of NA per column is: \\n\\n{df.isnull().sum()} \\n\")\n",
    "    print(f\"{sep}\")\n",
    "    print(\"***************The value_counts per column*****************\\n\")\n",
    "    for columns in df.columns:\n",
    "        print(f\"{sep}\")\n",
    "        print(f\"{df[columns].value_counts()}\\n\")\n",
    "            \n",
    "    #end function first view\n",
    "\n",
    "def dummies(df, columns, pref = 'dumn'):\n",
    "    \"\"\" This function uses the method get_dummies and concatennates the result \n",
    "        on the DataFrame \"\"\"\n",
    "    dummies = pd.get_dummies(df[columns], prefix = pref)\n",
    "    del(df[columns])\n",
    "    df = pd.concat([df, dummies], axis = 1)\n",
    "    \n",
    "    \n",
    "\n",
    "        \n",
    "    \n",
    "    \n",
    "    "
   ]
  }
 ],
 "metadata": {
  "kernelspec": {
   "display_name": "Python 3",
   "language": "python",
   "name": "python3"
  },
  "language_info": {
   "codemirror_mode": {
    "name": "ipython",
    "version": 3
   },
   "file_extension": ".py",
   "mimetype": "text/x-python",
   "name": "python",
   "nbconvert_exporter": "python",
   "pygments_lexer": "ipython3",
   "version": "3.7.6"
  },
  "toc": {
   "base_numbering": 1,
   "nav_menu": {},
   "number_sections": true,
   "sideBar": true,
   "skip_h1_title": false,
   "title_cell": "Table of Contents",
   "title_sidebar": "Contents",
   "toc_cell": false,
   "toc_position": {},
   "toc_section_display": true,
   "toc_window_display": false
  },
  "varInspector": {
   "cols": {
    "lenName": 16,
    "lenType": 16,
    "lenVar": 40
   },
   "kernels_config": {
    "python": {
     "delete_cmd_postfix": "",
     "delete_cmd_prefix": "del ",
     "library": "var_list.py",
     "varRefreshCmd": "print(var_dic_list())"
    },
    "r": {
     "delete_cmd_postfix": ") ",
     "delete_cmd_prefix": "rm(",
     "library": "var_list.r",
     "varRefreshCmd": "cat(var_dic_list()) "
    }
   },
   "types_to_exclude": [
    "module",
    "function",
    "builtin_function_or_method",
    "instance",
    "_Feature"
   ],
   "window_display": false
  }
 },
 "nbformat": 4,
 "nbformat_minor": 4
}
