{
 "cells": [
  {
   "cell_type": "markdown",
   "metadata": {},
   "source": [
    "# Modelo regresión lineal\n"
   ]
  },
  {
   "cell_type": "markdown",
   "metadata": {},
   "source": [
    "## Modelo con datos simulados\n",
    "\n",
    "$y = \\alpha + \\beta x$ \n",
    "\n",
    "$x$: 100  valores  distribuidos $N(1.5, 2.5)$\n",
    "\n",
    "$y_e = 2 + 0.3x  + \\varepsilon$\n",
    "\n",
    "$\\varepsilon = N(0, 0.8)$"
   ]
  },
  {
   "cell_type": "code",
   "execution_count": 53,
   "metadata": {},
   "outputs": [],
   "source": [
    "import numpy as np\n",
    "import pandas as pd\n",
    "import matplotlib.pyplot as plt\n"
   ]
  },
  {
   "cell_type": "code",
   "execution_count": 54,
   "metadata": {},
   "outputs": [],
   "source": [
    "x = 1.5 + 2.5 * np.random.randn(100)\n",
    "e = .08 * np.random.randn(100) #el error epsilon\n",
    "y_e = 2.0 + 0.3 * x + e #El valor que realmente es\n",
    "y_pre = 2.0 + 0.3 * x #El valor que se espera tener"
   ]
  },
  {
   "cell_type": "code",
   "execution_count": 55,
   "metadata": {},
   "outputs": [
    {
     "data": {
      "text/html": [
       "<div>\n",
       "<style scoped>\n",
       "    .dataframe tbody tr th:only-of-type {\n",
       "        vertical-align: middle;\n",
       "    }\n",
       "\n",
       "    .dataframe tbody tr th {\n",
       "        vertical-align: top;\n",
       "    }\n",
       "\n",
       "    .dataframe thead th {\n",
       "        text-align: right;\n",
       "    }\n",
       "</style>\n",
       "<table border=\"1\" class=\"dataframe\">\n",
       "  <thead>\n",
       "    <tr style=\"text-align: right;\">\n",
       "      <th></th>\n",
       "      <th>x</th>\n",
       "      <th>y actual</th>\n",
       "      <th>y predecida</th>\n",
       "    </tr>\n",
       "  </thead>\n",
       "  <tbody>\n",
       "    <tr>\n",
       "      <th>0</th>\n",
       "      <td>1.430033</td>\n",
       "      <td>2.435514</td>\n",
       "      <td>2.429010</td>\n",
       "    </tr>\n",
       "    <tr>\n",
       "      <th>1</th>\n",
       "      <td>-1.834509</td>\n",
       "      <td>1.278025</td>\n",
       "      <td>1.449647</td>\n",
       "    </tr>\n",
       "    <tr>\n",
       "      <th>2</th>\n",
       "      <td>1.260265</td>\n",
       "      <td>2.333075</td>\n",
       "      <td>2.378080</td>\n",
       "    </tr>\n",
       "    <tr>\n",
       "      <th>3</th>\n",
       "      <td>3.612486</td>\n",
       "      <td>3.031887</td>\n",
       "      <td>3.083746</td>\n",
       "    </tr>\n",
       "    <tr>\n",
       "      <th>4</th>\n",
       "      <td>4.148569</td>\n",
       "      <td>3.130177</td>\n",
       "      <td>3.244571</td>\n",
       "    </tr>\n",
       "    <tr>\n",
       "      <th>...</th>\n",
       "      <td>...</td>\n",
       "      <td>...</td>\n",
       "      <td>...</td>\n",
       "    </tr>\n",
       "    <tr>\n",
       "      <th>95</th>\n",
       "      <td>-0.989578</td>\n",
       "      <td>1.779586</td>\n",
       "      <td>1.703127</td>\n",
       "    </tr>\n",
       "    <tr>\n",
       "      <th>96</th>\n",
       "      <td>4.217742</td>\n",
       "      <td>3.187058</td>\n",
       "      <td>3.265323</td>\n",
       "    </tr>\n",
       "    <tr>\n",
       "      <th>97</th>\n",
       "      <td>2.270537</td>\n",
       "      <td>2.625392</td>\n",
       "      <td>2.681161</td>\n",
       "    </tr>\n",
       "    <tr>\n",
       "      <th>98</th>\n",
       "      <td>4.131222</td>\n",
       "      <td>3.180350</td>\n",
       "      <td>3.239367</td>\n",
       "    </tr>\n",
       "    <tr>\n",
       "      <th>99</th>\n",
       "      <td>-2.122775</td>\n",
       "      <td>1.344401</td>\n",
       "      <td>1.363167</td>\n",
       "    </tr>\n",
       "  </tbody>\n",
       "</table>\n",
       "<p>100 rows × 3 columns</p>\n",
       "</div>"
      ],
      "text/plain": [
       "           x  y actual  y predecida\n",
       "0   1.430033  2.435514     2.429010\n",
       "1  -1.834509  1.278025     1.449647\n",
       "2   1.260265  2.333075     2.378080\n",
       "3   3.612486  3.031887     3.083746\n",
       "4   4.148569  3.130177     3.244571\n",
       "..       ...       ...          ...\n",
       "95 -0.989578  1.779586     1.703127\n",
       "96  4.217742  3.187058     3.265323\n",
       "97  2.270537  2.625392     2.681161\n",
       "98  4.131222  3.180350     3.239367\n",
       "99 -2.122775  1.344401     1.363167\n",
       "\n",
       "[100 rows x 3 columns]"
      ]
     },
     "execution_count": 55,
     "metadata": {},
     "output_type": "execute_result"
    }
   ],
   "source": [
    "df = pd.DataFrame({'x': x, 'y actual': y_e, 'y predecida': y_pre})\n",
    "df"
   ]
  },
  {
   "cell_type": "code",
   "execution_count": 56,
   "metadata": {},
   "outputs": [
    {
     "data": {
      "image/png": "[encoded data removed]",
      "text/plain": [
       "<Figure size 432x288 with 1 Axes>"
      ]
     },
     "metadata": {
      "needs_background": "light"
     },
     "output_type": "display_data"
    }
   ],
   "source": [
    "plt.plot(df['x'], df['y predecida'], 'r')\n",
    "plt.scatter(df['x'], df['y actual'], color ='green')\n",
    "plt.legend('y predecida')\n",
    "plt.xlabel('x')\n",
    "plt.ylabel('y')\n",
    "plt.title('Regresion lineal');"
   ]
  },
  {
   "cell_type": "code",
   "execution_count": 57,
   "metadata": {},
   "outputs": [
    {
     "name": "stdout",
     "output_type": "stream",
     "text": [
      "El valor de R^2 es 0.9887323313465272\n"
     ]
    }
   ],
   "source": [
    "SSD = np.sum((df['y actual'] - df['y predecida']) ** 2)\n",
    "SSR = np.sum((np.mean(df['y actual']) - df['y predecida'])**2)\n",
    "SST = SSR + SSD\n",
    "R_2 = SSR/SST\n",
    "print(f\"El valor de R^2 es {R_2}\")"
   ]
  },
  {
   "cell_type": "markdown",
   "metadata": {},
   "source": [
    "# Obteniendo la recta de regresión"
   ]
  },
  {
   "cell_type": "markdown",
   "metadata": {},
   "source": [
    "$\\beta = \\frac {\\sigma(x, y)}{\\sigma(x)}$\n",
    "\n",
    "$\\alpha = \\mu_{y} - \\beta \\mu_{x}$\n",
    "\n",
    "$y = \\alpha + \\beta x$"
   ]
  },
  {
   "cell_type": "code",
   "execution_count": 74,
   "metadata": {},
   "outputs": [
    {
     "name": "stdout",
     "output_type": "stream",
     "text": [
      "Beta = 0.2999230406849555 \n"
     ]
    }
   ],
   "source": [
    "beta_ma = np.cov(df['x'], df['y actual'])/np.var(df['x'])\n",
    "beta = beta_ma[0, 1]\n",
    "print(f\"Beta = {beta} \")"
   ]
  },
  {
   "cell_type": "code",
   "execution_count": 75,
   "metadata": {},
   "outputs": [
    {
     "name": "stdout",
     "output_type": "stream",
     "text": [
      "alpha = 1.9998069084771875\n"
     ]
    }
   ],
   "source": [
    "alpha = np.mean(df['y actual']) - beta * np.mean(df['x'])\n",
    "print(f\"alpha = {alpha}\")"
   ]
  },
  {
   "cell_type": "code",
   "execution_count": 80,
   "metadata": {},
   "outputs": [
    {
     "data": {
      "image/png": "[encoded data removed]",
      "text/plain": [
       "<Figure size 432x288 with 1 Axes>"
      ]
     },
     "metadata": {
      "needs_background": "light"
     },
     "output_type": "display_data"
    }
   ],
   "source": [
    "plt.scatter(df['x'], df['y actual'])\n",
    "df['y2recta'] = alpha+beta*df['x']\n",
    "plt.plot(df['x'], df['y2recta'], 'r')\n",
    "plt.xlabel('x')\n",
    "plt.legend(['y actual', 'y2recta']);"
   ]
  },
  {
   "cell_type": "markdown",
   "metadata": {},
   "source": [
    "El valor de la recta que prediimos es:\n",
    "\n",
    "$y = 1.9998069084771875 + 0.2999230406849555*x$"
   ]
  },
  {
   "cell_type": "code",
   "execution_count": 81,
   "metadata": {},
   "outputs": [
    {
     "name": "stdout",
     "output_type": "stream",
     "text": [
      "El valor de R^2  es 0.9885803357384902\n"
     ]
    }
   ],
   "source": [
    "SSD = np.sum((df['y actual'] - df['y2recta']) ** 2)\n",
    "SSR = np.sum((np.mean(df['y actual']) - df['y2recta'])**2)\n",
    "SST = SSR + SSD\n",
    "R_2 = SSR/SST\n",
    "print(f\"El valor de R^2  es {R_2}\")"
   ]
  },
  {
   "cell_type": "markdown",
   "metadata": {},
   "source": [
    "## Error estándar del residuo"
   ]
  },
  {
   "cell_type": "code",
   "execution_count": 83,
   "metadata": {},
   "outputs": [
    {
     "name": "stdout",
     "output_type": "stream",
     "text": [
      "El RSE es 0.08623195466989471\n"
     ]
    }
   ],
   "source": [
    "RSE = np.sqrt(SSD/(df.shape[0] - 2))\n",
    "print(f\"El RSE es {RSE}\")"
   ]
  },
  {
   "cell_type": "code",
   "execution_count": 93,
   "metadata": {},
   "outputs": [
    {
     "data": {
      "text/plain": [
       "0    1.430033\n",
       "1   -1.834509\n",
       "2    1.260265\n",
       "3    3.612486\n",
       "4    4.148569\n",
       "5    1.466978\n",
       "6   -0.637162\n",
       "7   -1.645958\n",
       "8    3.083410\n",
       "Name: x, dtype: float64"
      ]
     },
     "execution_count": 93,
     "metadata": {},
     "output_type": "execute_result"
    }
   ],
   "source": [
    "df.iloc[0:9, 0]"
   ]
  },
  {
   "cell_type": "code",
   "execution_count": 85,
   "metadata": {},
   "outputs": [
    {
     "data": {
      "text/plain": [
       "0     2.424418\n",
       "1     1.455098\n",
       "2     2.374010\n",
       "3     3.072440\n",
       "4     3.231616\n",
       "        ...   \n",
       "95    1.705978\n",
       "96    3.252155\n",
       "97    2.673983\n",
       "98    3.226465\n",
       "99    1.369504\n",
       "Name: y2recta, Length: 100, dtype: float64"
      ]
     },
     "execution_count": 85,
     "metadata": {},
     "output_type": "execute_result"
    }
   ],
   "source": [
    "df.y2recta"
   ]
  },
  {
   "cell_type": "code",
   "execution_count": 149,
   "metadata": {},
   "outputs": [
    {
     "data": {
      "text/plain": [
       "0"
      ]
     },
     "execution_count": 149,
     "metadata": {},
     "output_type": "execute_result"
    }
   ],
   "source": [
    "pd.isnull(df.y2recta).sum()\n",
    "df.y2recta.isnull().sum()"
   ]
  },
  {
   "cell_type": "code",
   "execution_count": 97,
   "metadata": {},
   "outputs": [
    {
     "data": {
      "text/plain": [
       "True"
      ]
     },
     "execution_count": 97,
     "metadata": {},
     "output_type": "execute_result"
    }
   ],
   "source": [
    "a = \"Aromas include tropical fruit, broom, brimstone and dried herb. The palate isn't overly expressive, offering unripened apple, citrus and dried sage alongside brisk acidity\"\n",
    "'tropical' in a"
   ]
  },
  {
   "cell_type": "code",
   "execution_count": 119,
   "metadata": {},
   "outputs": [
    {
     "data": {
      "text/plain": [
       "2.055682    1\n",
       "2.137185    1\n",
       "1.787028    1\n",
       "2.573030    1\n",
       "2.424418    1\n",
       "           ..\n",
       "1.472072    1\n",
       "3.563000    1\n",
       "2.498455    1\n",
       "2.092827    1\n",
       "1.621095    1\n",
       "Name: y2recta, Length: 100, dtype: int64"
      ]
     },
     "execution_count": 119,
     "metadata": {},
     "output_type": "execute_result"
    }
   ],
   "source": [
    "df['y2recta'].value_counts()"
   ]
  },
  {
   "cell_type": "code",
   "execution_count": 123,
   "metadata": {},
   "outputs": [],
   "source": [
    "a = df.groupby('y2recta')"
   ]
  },
  {
   "cell_type": "code",
   "execution_count": 132,
   "metadata": {},
   "outputs": [
    {
     "name": "stdout",
     "output_type": "stream",
     "text": [
      "name:  0.5561987109728861\n",
      "           x  y actual  y predecida   y2recta\n",
      "22 -4.861881  0.516004     0.541436  0.556199 \n",
      "\n",
      "name:  0.9071794455511588\n",
      "           x  y actual  y predecida   y2recta\n",
      "43 -3.679824  0.821686     0.896053  0.907179 \n",
      "\n",
      "name:  0.9628053244037311\n",
      "           x  y actual  y predecida   y2recta\n",
      "68 -3.492484  1.001924     0.952255  0.962805 \n",
      "\n",
      "name:  1.0248239161042951\n",
      "           x  y actual  y predecida   y2recta\n",
      "28 -3.283613  1.100179     1.014916  1.024824 \n",
      "\n",
      "name:  1.1808723344902181\n",
      "           x  y actual  y predecida   y2recta\n",
      "92 -2.758063  1.209842     1.172581  1.180872 \n",
      "\n",
      "name:  1.1894568334563158\n",
      "          x  y actual  y predecida   y2recta\n",
      "9 -2.729152  1.155236     1.181255  1.189457 \n",
      "\n",
      "name:  1.2547912009996347\n",
      "           x  y actual  y predecida   y2recta\n",
      "59 -2.509114  1.337297     1.247266  1.254791 \n",
      "\n",
      "name:  1.3092258155035164\n",
      "           x  y actual  y predecida   y2recta\n",
      "60 -2.325786  1.448108     1.302264  1.309226 \n",
      "\n",
      "name:  1.34102940741057\n",
      "           x  y actual  y predecida   y2recta\n",
      "51 -2.218675  1.263002     1.334397  1.341029 \n",
      "\n",
      "name:  1.369504354573989\n",
      "           x  y actual  y predecida   y2recta\n",
      "99 -2.122775  1.344401     1.363167  1.369504 \n",
      "\n",
      "name:  1.4416608265950135\n",
      "           x  y actual  y predecida   y2recta\n",
      "71 -1.879762  1.539975     1.436071  1.441661 \n",
      "\n",
      "name:  1.4550976272857907\n",
      "          x  y actual  y predecida   y2recta\n",
      "1 -1.834509  1.278025     1.449647  1.455098 \n",
      "\n",
      "name:  1.4720717403827925\n",
      "           x  y actual  y predecida   y2recta\n",
      "17 -1.777342  1.424461     1.466797  1.472072 \n",
      "\n",
      "name:  1.51108267709274\n",
      "          x  y actual  y predecida   y2recta\n",
      "7 -1.645958  1.612303     1.506212  1.511083 \n",
      "\n",
      "name:  1.5371977215859047\n",
      "           x  y actual  y predecida   y2recta\n",
      "90 -1.558006  1.651096     1.532598  1.537198 \n",
      "\n",
      "name:  1.5423571633800501\n",
      "          x  y actual  y predecida   y2recta\n",
      "85 -1.54063  1.594396     1.537811  1.542357 \n",
      "\n",
      "name:  1.5526285295332696\n",
      "           x  y actual  y predecida   y2recta\n",
      "50 -1.506037  1.450882     1.548189  1.552629 \n",
      "\n",
      "name:  1.5668755209370377\n",
      "           x  y actual  y predecida   y2recta\n",
      "21 -1.458055   1.56061     1.562583  1.566876 \n",
      "\n",
      "name:  1.6210754455660208\n",
      "           x  y actual  y predecida   y2recta\n",
      "55 -1.275517  1.664626     1.617345  1.621075 \n",
      "\n",
      "name:  1.6210946712453165\n",
      "           x  y actual  y predecida   y2recta\n",
      "62 -1.275453  1.511316     1.617364  1.621095 \n",
      "\n",
      "name:  1.6673416889554857\n",
      "           x  y actual  y predecida   y2recta\n",
      "13 -1.119699  1.719858      1.66409  1.667342 \n",
      "\n",
      "name:  1.7059776373140503\n",
      "           x  y actual  y predecida   y2recta\n",
      "95 -0.989578  1.779586     1.703127  1.705978 \n",
      "\n",
      "name:  1.7163758462953302\n",
      "           x  y actual  y predecida   y2recta\n",
      "65 -0.954558   1.67832     1.713633  1.716376 \n",
      "\n",
      "name:  1.7739385607401645\n",
      "           x  y actual  y predecida   y2recta\n",
      "18 -0.760695  1.853793     1.771792  1.773939 \n",
      "\n",
      "name:  1.784617650116784\n",
      "           x  y actual  y predecida   y2recta\n",
      "82 -0.724729  1.805103     1.782581  1.784618 \n",
      "\n",
      "name:  1.787027983623863\n",
      "           x  y actual  y predecida   y2recta\n",
      "80 -0.716611  1.564751     1.785017  1.787028 \n",
      "\n",
      "name:  1.8106183556450886\n",
      "          x  y actual  y predecida   y2recta\n",
      "6 -0.637162  1.817493     1.808851  1.810618 \n",
      "\n",
      "name:  1.8186110921403829\n",
      "           x  y actual  y predecida   y2recta\n",
      "78 -0.610243  1.960676     1.816927  1.818611 \n",
      "\n",
      "name:  1.8583503882640404\n",
      "           x  y actual  y predecida  y2recta\n",
      "42 -0.476407  2.008551     1.857078  1.85835 \n",
      "\n",
      "name:  1.8681962533929348\n",
      "           x  y actual  y predecida   y2recta\n",
      "66 -0.443247  1.907043     1.867026  1.868196 \n",
      "\n",
      "name:  1.8952422858753424\n",
      "          x  y actual  y predecida   y2recta\n",
      "77 -0.35216  1.882848     1.894352  1.895242 \n",
      "\n",
      "name:  1.8979318106524892\n",
      "           x  y actual  y predecida   y2recta\n",
      "69 -0.343102  1.924629     1.897069  1.897932 \n",
      "\n",
      "name:  1.9218605190320375\n",
      "           x  y actual  y predecida   y2recta\n",
      "41 -0.262513   1.99647     1.921246  1.921861 \n",
      "\n",
      "name:  2.02135129374716\n",
      "           x  y actual  y predecida   y2recta\n",
      "76  0.072559  1.946167     2.021768  2.021351 \n",
      "\n",
      "name:  2.055682494385197\n",
      "           x  y actual  y predecida   y2recta\n",
      "48  0.188182  1.997466     2.056454  2.055682 \n",
      "\n",
      "name:  2.074372256988664\n",
      "           x  y actual  y predecida   y2recta\n",
      "61  0.251126  2.003859     2.075338  2.074372 \n",
      "\n",
      "name:  2.092827453347616\n",
      "           x  y actual  y predecida   y2recta\n",
      "10  0.313281  2.040441     2.093984  2.092827 \n",
      "\n",
      "name:  2.137184768681446\n",
      "          x  y actual  y predecida   y2recta\n",
      "63  0.46267  2.163702     2.138801  2.137185 \n",
      "\n",
      "name:  2.183483679300862\n",
      "           x  y actual  y predecida   y2recta\n",
      "52  0.618599  2.032977      2.18558  2.183484 \n",
      "\n",
      "name:  2.185579616171739\n",
      "           x  y actual  y predecida  y2recta\n",
      "27  0.625658  2.282994     2.187697  2.18558 \n",
      "\n",
      "name:  2.204145628726827\n",
      "           x  y actual  y predecida   y2recta\n",
      "23  0.688186  2.197144     2.206456  2.204146 \n",
      "\n",
      "name:  2.212130474856183\n",
      "           x  y actual  y predecida  y2recta\n",
      "16  0.715078  2.200615     2.214523  2.21213 \n",
      "\n",
      "name:  2.231766842675875\n",
      "          x  y actual  y predecida   y2recta\n",
      "14  0.78121  2.297316     2.234363  2.231767 \n",
      "\n",
      "name:  2.23907856441298\n",
      "           x  y actual  y predecida   y2recta\n",
      "44  0.805835  2.118193     2.241751  2.239079 \n",
      "\n",
      "name:  2.242150660723067\n",
      "           x  y actual  y predecida   y2recta\n",
      "32  0.816182  2.104208     2.244854  2.242151 \n",
      "\n",
      "name:  2.253822730997835\n",
      "           x  y actual  y predecida   y2recta\n",
      "70  0.855492  2.344442     2.256647  2.253823 \n",
      "\n",
      "name:  2.318179156671346\n",
      "           x  y actual  y predecida   y2recta\n",
      "83  1.072235  2.390855     2.321671  2.318179 \n",
      "\n",
      "name:  2.3609059904809078\n",
      "           x  y actual  y predecida   y2recta\n",
      "56  1.216134  2.420388      2.36484  2.360906 \n",
      "\n",
      "name:  2.3740096970456444\n",
      "          x  y actual  y predecida  y2recta\n",
      "2  1.260265  2.333075      2.37808  2.37401 \n",
      "\n",
      "name:  2.402363992045162\n",
      "           x  y actual  y predecida   y2recta\n",
      "54  1.355759  2.317595     2.406728  2.402364 \n",
      "\n",
      "name:  2.4083300715181113\n",
      "           x  y actual  y predecida  y2recta\n",
      "36  1.375852  2.513964     2.412756  2.40833 \n",
      "\n",
      "name:  2.4205676452918605\n",
      "           x  y actual  y predecida   y2recta\n",
      "67  1.417066  2.469206      2.42512  2.420568 \n",
      "\n",
      "name:  2.4244178093361883\n",
      "          x  y actual  y predecida   y2recta\n",
      "0  1.430033  2.435514      2.42901  2.424418 \n",
      "\n",
      "name:  2.428295963524417\n",
      "           x  y actual  y predecida   y2recta\n",
      "74  1.443094  2.352147     2.432928  2.428296 \n",
      "\n",
      "name:  2.4353876679434476\n",
      "          x  y actual  y predecida   y2recta\n",
      "5  1.466978  2.523101     2.440093  2.435388 \n",
      "\n",
      "name:  2.498454701239416\n",
      "          x  y actual  y predecida   y2recta\n",
      "49  1.67938  2.522287     2.503814  2.498455 \n",
      "\n",
      "name:  2.5000951346456377\n",
      "           x  y actual  y predecida   y2recta\n",
      "58  1.684904  2.471885     2.505471  2.500095 \n",
      "\n",
      "name:  2.512068128615377\n",
      "           x  y actual  y predecida   y2recta\n",
      "31  1.725228  2.425741     2.517568  2.512068 \n",
      "\n",
      "name:  2.514812230421107\n",
      "          x  y actual  y predecida   y2recta\n",
      "39  1.73447   2.56252     2.520341  2.514812 \n",
      "\n",
      "name:  2.5730298990911873\n",
      "           x  y actual  y predecida  y2recta\n",
      "40  1.930539  2.682145     2.579162  2.57303 \n",
      "\n",
      "name:  2.593470880885294\n",
      "           x  y actual  y predecida   y2recta\n",
      "91  1.999381  2.528393     2.599814  2.593471 \n",
      "\n",
      "name:  2.595201382614685\n",
      "          x  y actual  y predecida   y2recta\n",
      "88  2.00521  2.679877     2.601563  2.595201 \n",
      "\n",
      "name:  2.6526458129523074\n",
      "           x  y actual  y predecida   y2recta\n",
      "29  2.198675  2.679265     2.659602  2.652646 \n",
      "\n",
      "name:  2.6720414981815637\n",
      "           x  y actual  y predecida   y2recta\n",
      "79  2.263997  2.628602     2.679199  2.672041 \n",
      "\n",
      "name:  2.6739834324054375\n",
      "           x  y actual  y predecida   y2recta\n",
      "97  2.270537  2.625392     2.681161  2.673983 \n",
      "\n",
      "name:  2.679461551289244\n",
      "           x  y actual  y predecida   y2recta\n",
      "73  2.288987   2.55235     2.686696  2.679462 \n",
      "\n",
      "name:  2.7712457059425795\n",
      "           x  y actual  y predecida   y2recta\n",
      "45  2.598104   2.83673     2.779431  2.771246 \n",
      "\n",
      "name:  2.834284240261469\n",
      "           x  y actual  y predecida   y2recta\n",
      "81  2.810409  2.828502     2.843123  2.834284 \n",
      "\n",
      "name:  2.842204190480395\n",
      "           x  y actual  y predecida   y2recta\n",
      "20  2.837082  2.943455     2.851125  2.842204 \n",
      "\n",
      "name:  2.8573012501470916\n",
      "           x  y actual  y predecida   y2recta\n",
      "64  2.887927  2.967151     2.866378  2.857301 \n",
      "\n",
      "name:  2.8723127352674904\n",
      "           x  y actual  y predecida   y2recta\n",
      "86  2.938484  2.787248     2.881545  2.872313 \n",
      "\n",
      "name:  2.9153447632309692\n",
      "         x  y actual  y predecida   y2recta\n",
      "8  3.08341  2.848194     2.925023  2.915345 \n",
      "\n",
      "name:  2.926840275611939\n",
      "           x  y actual  y predecida  y2recta\n",
      "72  3.122125  2.837709     2.936638  2.92684 \n",
      "\n",
      "name:  2.9922131740964044\n",
      "           x  y actual  y predecida   y2recta\n",
      "93  3.342293  3.105256     3.002688  2.992213 \n",
      "\n",
      "name:  2.994686552478255\n",
      "           x  y actual  y predecida   y2recta\n",
      "47  3.350623  2.972857     3.005187  2.994687 \n",
      "\n",
      "name:  3.0034553372155024\n",
      "           x  y actual  y predecida   y2recta\n",
      "35  3.380155  3.068094     3.014046  3.003455 \n",
      "\n",
      "name:  3.015896945571031\n",
      "           x  y actual  y predecida   y2recta\n",
      "37  3.422056  2.927604     3.026617  3.015897 \n",
      "\n",
      "name:  3.0310776491921954\n",
      "           x  y actual  y predecida   y2recta\n",
      "38  3.473183  2.964512     3.041955  3.031078 \n",
      "\n",
      "name:  3.0724399764838655\n",
      "          x  y actual  y predecida  y2recta\n",
      "3  3.612486  3.031887     3.083746  3.07244 \n",
      "\n",
      "name:  3.0987576068548233\n",
      "          x  y actual  y predecida   y2recta\n",
      "75  3.70112  3.048343     3.110336  3.098758 \n",
      "\n",
      "name:  3.1232796677601637\n",
      "           x  y actual  y predecida  y2recta\n",
      "11  3.783707  3.213566     3.135112  3.12328 \n",
      "\n",
      "name:  3.137960109743866\n",
      "           x  y actual  y predecida  y2recta\n",
      "34  3.833149  3.142625     3.149945  3.13796 \n",
      "\n",
      "name:  3.177448392211571\n",
      "          x  y actual  y predecida   y2recta\n",
      "57  3.96614  3.084157     3.189842  3.177448 \n",
      "\n",
      "name:  3.1830994977556104\n",
      "           x  y actual  y predecida   y2recta\n",
      "26  3.985172  3.276776     3.195552  3.183099 \n",
      "\n",
      "name:  3.213442282023615\n",
      "           x  y actual  y predecida   y2recta\n",
      "46  4.087363   3.30084     3.226209  3.213442 \n",
      "\n",
      "name:  3.226465001589796\n",
      "           x  y actual  y predecida   y2recta\n",
      "98  4.131222   3.18035     3.239367  3.226465 \n",
      "\n",
      "name:  3.2316158994738444\n",
      "          x  y actual  y predecida   y2recta\n",
      "4  4.148569  3.130177     3.244571  3.231616 \n",
      "\n",
      "name:  3.252154871759979\n",
      "           x  y actual  y predecida   y2recta\n",
      "96  4.217742  3.187058     3.265323  3.252155 \n",
      "\n",
      "name:  3.3107032806484065\n",
      "           x  y actual  y predecida   y2recta\n",
      "84  4.414925  3.417369     3.324478  3.310703 \n",
      "\n",
      "name:  3.4762089339513933\n",
      "           x  y actual  y predecida   y2recta\n",
      "15  4.972326  3.492114     3.491698  3.476209 \n",
      "\n",
      "name:  3.5630000956226846\n",
      "           x  y actual  y predecida  y2recta\n",
      "33  5.264627  3.666111     3.579388    3.563 \n",
      "\n",
      "name:  3.618424098853252\n",
      "           x  y actual  y predecida   y2recta\n",
      "53  5.451288  3.760423     3.635386  3.618424 \n",
      "\n",
      "name:  3.7124859439942406\n",
      "           x  y actual  y predecida   y2recta\n",
      "89  5.768076  3.880007     3.730423  3.712486 \n",
      "\n",
      "name:  3.716371137367008\n",
      "           x  y actual  y predecida   y2recta\n",
      "87  5.781161  3.773558     3.734348  3.716371 \n",
      "\n",
      "name:  3.718978729569837\n",
      "           x  y actual  y predecida   y2recta\n",
      "12  5.789943  3.622569     3.736983  3.718979 \n",
      "\n",
      "name:  3.734171057335664\n",
      "           x  y actual  y predecida   y2recta\n",
      "19  5.841108  3.704305     3.752333  3.734171 \n",
      "\n",
      "name:  3.9539222032190233\n",
      "           x  y actual  y predecida   y2recta\n",
      "24  6.581201  3.990979      3.97436  3.953922 \n",
      "\n",
      "name:  4.014039786322289\n",
      "           x  y actual  y predecida  y2recta\n",
      "25  6.783669  4.147249     4.035101  4.01404 \n",
      "\n",
      "name:  4.019424058186336\n",
      "           x  y actual  y predecida   y2recta\n",
      "30  6.801803  3.892888     4.040541  4.019424 \n",
      "\n",
      "name:  4.3073536024869625\n",
      "           x  y actual  y predecida   y2recta\n",
      "94  7.771511  4.158414     4.331453  4.307354 \n",
      "\n"
     ]
    }
   ],
   "source": [
    "for name, group in a:\n",
    "    print('name: ', name)\n",
    "    print(group, '\\n')"
   ]
  },
  {
   "cell_type": "code",
   "execution_count": 120,
   "metadata": {},
   "outputs": [
    {
     "data": {
      "text/plain": [
       "array([2.42441781, 1.45509763, 2.3740097 , 3.07243998, 3.2316159 ,\n",
       "       2.43538767, 1.81061836, 1.51108268, 2.91534476, 1.18945683,\n",
       "       2.09282745, 3.12327967, 3.71897873, 1.66734169, 2.23176684,\n",
       "       3.47620893, 2.21213047, 1.47207174, 1.77393856, 3.73417106,\n",
       "       2.84220419, 1.56687552, 0.55619871, 2.20414563, 3.9539222 ,\n",
       "       4.01403979, 3.1830995 , 2.18557962, 1.02482392, 2.65264581,\n",
       "       4.01942406, 2.51206813, 2.24215066, 3.5630001 , 3.13796011,\n",
       "       3.00345534, 2.40833007, 3.01589695, 3.03107765, 2.51481223,\n",
       "       2.5730299 , 1.92186052, 1.85835039, 0.90717945, 2.23907856,\n",
       "       2.77124571, 3.21344228, 2.99468655, 2.05568249, 2.4984547 ,\n",
       "       1.55262853, 1.34102941, 2.18348368, 3.6184241 , 2.40236399,\n",
       "       1.62107545, 2.36090599, 3.17744839, 2.50009513, 1.2547912 ,\n",
       "       1.30922582, 2.07437226, 1.62109467, 2.13718477, 2.85730125,\n",
       "       1.71637585, 1.86819625, 2.42056765, 0.96280532, 1.89793181,\n",
       "       2.25382273, 1.44166083, 2.92684028, 2.67946155, 2.42829596,\n",
       "       3.09875761, 2.02135129, 1.89524229, 1.81861109, 2.6720415 ,\n",
       "       1.78702798, 2.83428424, 1.78461765, 2.31817916, 3.31070328,\n",
       "       1.54235716, 2.87231274, 3.71637114, 2.59520138, 3.71248594,\n",
       "       1.53719772, 2.59347088, 1.18087233, 2.99221317, 4.3073536 ,\n",
       "       1.70597764, 3.25215487, 2.67398343, 3.226465  , 1.36950435])"
      ]
     },
     "execution_count": 120,
     "metadata": {},
     "output_type": "execute_result"
    }
   ],
   "source": []
  },
  {
   "cell_type": "code",
   "execution_count": 136,
   "metadata": {},
   "outputs": [],
   "source": [
    "a = np.array([[1, 2, 3], [4, 5, 6], [7, 8, 9]])\n",
    "b = np.array([1, 2, 3])"
   ]
  },
  {
   "cell_type": "code",
   "execution_count": 142,
   "metadata": {},
   "outputs": [
    {
     "data": {
      "text/plain": [
       "array([[ 2,  3,  4],\n",
       "       [ 6,  7,  8],\n",
       "       [10, 11, 12]])"
      ]
     },
     "execution_count": 142,
     "metadata": {},
     "output_type": "execute_result"
    }
   ],
   "source": [
    "b[:, np.newaxis] + a"
   ]
  },
  {
   "cell_type": "code",
   "execution_count": 155,
   "metadata": {},
   "outputs": [
    {
     "data": {
      "text/plain": [
       "1"
      ]
     },
     "execution_count": 155,
     "metadata": {},
     "output_type": "execute_result"
    }
   ],
   "source": [
    "a = [1, 2, 3, 4, 4]\n",
    "min(a)"
   ]
  },
  {
   "cell_type": "code",
   "execution_count": 154,
   "metadata": {},
   "outputs": [
    {
     "ename": "TypeError",
     "evalue": "'builtin_function_or_method' object is not subscriptable",
     "output_type": "error",
     "traceback": [
      "\u001b[0;31m--------------------------------------------------------------------------\u001b[0m",
      "\u001b[0;31mTypeError\u001b[0m                                Traceback (most recent call last)",
      "\u001b[0;32m<ipython-input-154-5b0b5f41203d>\u001b[0m in \u001b[0;36m<module>\u001b[0;34m\u001b[0m\n\u001b[0;32m----> 1\u001b[0;31m \u001b[0mmin\u001b[0m\u001b[0;34m[\u001b[0m\u001b[0ma\u001b[0m\u001b[0;34m]\u001b[0m\u001b[0;34m\u001b[0m\u001b[0;34m\u001b[0m\u001b[0m\n\u001b[0m",
      "\u001b[0;31mTypeError\u001b[0m: 'builtin_function_or_method' object is not subscriptable"
     ]
    }
   ],
   "source": []
  },
  {
   "cell_type": "code",
   "execution_count": 152,
   "metadata": {},
   "outputs": [
    {
     "ename": "AttributeError",
     "evalue": "'numpy.ndarray' object has no attribute 'pop'",
     "output_type": "error",
     "traceback": [
      "\u001b[0;31m--------------------------------------------------------------------------\u001b[0m",
      "\u001b[0;31mAttributeError\u001b[0m                           Traceback (most recent call last)",
      "\u001b[0;32m<ipython-input-152-81e119d9eb25>\u001b[0m in \u001b[0;36m<module>\u001b[0;34m\u001b[0m\n\u001b[0;32m----> 1\u001b[0;31m \u001b[0mb\u001b[0m\u001b[0;34m.\u001b[0m\u001b[0mpop\u001b[0m\u001b[0;34m(\u001b[0m\u001b[0;34m)\u001b[0m\u001b[0;34m\u001b[0m\u001b[0;34m\u001b[0m\u001b[0m\n\u001b[0m",
      "\u001b[0;31mAttributeError\u001b[0m: 'numpy.ndarray' object has no attribute 'pop'"
     ]
    }
   ],
   "source": [
    "b.pop()"
   ]
  },
  {
   "cell_type": "code",
   "execution_count": null,
   "metadata": {},
   "outputs": [],
   "source": []
  }
 ],
 "metadata": {
  "kernelspec": {
   "display_name": "Python 3",
   "language": "python",
   "name": "python3"
  },
  "language_info": {
   "codemirror_mode": {
    "name": "ipython",
    "version": 3
   },
   "file_extension": ".py",
   "mimetype": "text/x-python",
   "name": "python",
   "nbconvert_exporter": "python",
   "pygments_lexer": "ipython3",
   "version": "3.7.6"
  },
  "toc": {
   "base_numbering": 1,
   "nav_menu": {},
   "number_sections": true,
   "sideBar": true,
   "skip_h1_title": false,
   "title_cell": "Table of Contents",
   "title_sidebar": "Contents",
   "toc_cell": false,
   "toc_position": {},
   "toc_section_display": true,
   "toc_window_display": false
  },
  "varInspector": {
   "cols": {
    "lenName": 16,
    "lenType": 16,
    "lenVar": 40
   },
   "kernels_config": {
    "python": {
     "delete_cmd_postfix": "",
     "delete_cmd_prefix": "del ",
     "library": "var_list.py",
     "varRefreshCmd": "print(var_dic_list())"
    },
    "r": {
     "delete_cmd_postfix": ") ",
     "delete_cmd_prefix": "rm(",
     "library": "var_list.r",
     "varRefreshCmd": "cat(var_dic_list()) "
    }
   },
   "types_to_exclude": [
    "module",
    "function",
    "builtin_function_or_method",
    "instance",
    "_Feature"
   ],
   "window_display": false
  }
 },
 "nbformat": 4,
 "nbformat_minor": 4
}
