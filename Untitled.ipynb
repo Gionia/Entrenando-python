{
 "cells": [
  {
   "cell_type": "code",
   "execution_count": 64,
   "metadata": {},
   "outputs": [
    {
     "data": {
      "text/plain": [
       "array([[0, 3, 4, 5, 8, 1, 9, 7, 2, 6],\n",
       "       [1, 4, 6, 9, 8, 0, 7, 3, 2, 5],\n",
       "       [2, 7, 9, 8, 6, 4, 3, 1, 0, 5],\n",
       "       [3, 5, 0, 8, 4, 9, 7, 2, 1, 6],\n",
       "       [4, 1, 0, 8, 9, 6, 3, 5, 7, 2],\n",
       "       [5, 3, 0, 8, 4, 9, 1, 7, 2, 6],\n",
       "       [6, 1, 9, 4, 8, 7, 2, 0, 3, 5],\n",
       "       [7, 2, 9, 8, 6, 4, 1, 3, 0, 5],\n",
       "       [8, 9, 4, 7, 2, 3, 0, 1, 5, 6],\n",
       "       [9, 8, 7, 2, 6, 1, 4, 0, 3, 5]])"
      ]
     },
     "execution_count": 64,
     "metadata": {},
     "output_type": "execute_result"
    },
    {
     "data": {
      "image/png": "[encoded data removed]",
      "text/plain": [
       "<Figure size 432x288 with 1 Axes>"
      ]
     },
     "metadata": {},
     "output_type": "display_data"
    }
   ],
   "source": [
    "%matplotlib inline\n",
    "import matplotlib.pyplot as plt\n",
    "import numpy as np\n",
    "import seaborn; seaborn.set()\n",
    "rand = np.random.RandomState(42)\n",
    "X = rand.rand(10,2)\n",
    "plt.scatter(X[:, 0], X[:, 1], s = 100);\n",
    "\n",
    "dis = np.sum((X[:, np.newaxis, :] - X[np.newaxis, : , :]) **2, axis = -1 ) \n",
    "indexsort = dis.argsort(1)\n",
    "indexsort"
   ]
  },
  {
   "cell_type": "code",
   "execution_count": 61,
   "metadata": {},
   "outputs": [
    {
     "data": {
      "text/plain": [
       "array([[0.        , 0.25171654, 0.67933117, 0.10729142, 0.11021119,\n",
       "        0.12565305, 0.75487265, 0.62590345, 0.1863819 , 0.43821601],\n",
       "       [0.25171654, 0.        , 0.52769893, 0.52572083, 0.02910074,\n",
       "        0.64393098, 0.1593326 , 0.47512176, 0.18843303, 0.18454216],\n",
       "       [0.67933117, 0.52769893, 0.        , 0.51394921, 0.50290096,\n",
       "        0.68080058, 0.46072414, 0.00141727, 0.15795558, 0.09442377],\n",
       "       [0.10729142, 0.52572083, 0.51394921, 0.        , 0.31987984,\n",
       "        0.01216687, 1.02713477, 0.48148903, 0.17716149, 0.47033641],\n",
       "       [0.11021119, 0.02910074, 0.50290096, 0.31987984, 0.        ,\n",
       "        0.40557444, 0.29926414, 0.45108072, 0.12173825, 0.20237694],\n",
       "       [0.12565305, 0.64393098, 0.68080058, 0.01216687, 0.40557444,\n",
       "        0.        , 1.23302708, 0.64458914, 0.27862329, 0.62982499],\n",
       "       [0.75487265, 0.1593326 , 0.46072414, 1.02713477, 0.29926414,\n",
       "        1.23302708, 0.        , 0.42414057, 0.37660024, 0.16662198],\n",
       "       [0.62590345, 0.47512176, 0.00141727, 0.48148903, 0.45108072,\n",
       "        0.64458914, 0.42414057, 0.        , 0.13150712, 0.07418619],\n",
       "       [0.1863819 , 0.18843303, 0.15795558, 0.17716149, 0.12173825,\n",
       "        0.27862329, 0.37660024, 0.13150712, 0.        , 0.07084299],\n",
       "       [0.43821601, 0.18454216, 0.09442377, 0.47033641, 0.20237694,\n",
       "        0.62982499, 0.16662198, 0.07418619, 0.07084299, 0.        ]])"
      ]
     },
     "execution_count": 61,
     "metadata": {},
     "output_type": "execute_result"
    }
   ],
   "source": [
    "dis"
   ]
  },
  {
   "cell_type": "code",
   "execution_count": 4,
   "metadata": {},
   "outputs": [
    {
     "data": {
      "image/png": "[encoded data removed]",
      "text/plain": [
       "<Figure size 432x288 with 1 Axes>"
      ]
     },
     "metadata": {},
     "output_type": "display_data"
    }
   ],
   "source": [
    "\n",
    "%matplotlib inline\n",
    "import matplotlib.pyplot as plt\n",
    "import seaborn; seaborn.set() # Plot styling\n",
    "rand = np.random.RandomState(42)\n",
    "X = rand.rand(10, 2)\n",
    "plt.scatter(X[:, 0], X[:, 1], s=100);"
   ]
  },
  {
   "cell_type": "code",
   "execution_count": 5,
   "metadata": {},
   "outputs": [],
   "source": [
    "dist_sq = np.sum((X[:,np.newaxis,:] - X[np.newaxis,:,:]) ** 2, axis=-1)"
   ]
  },
  {
   "cell_type": "code",
   "execution_count": 52,
   "metadata": {},
   "outputs": [
    {
     "data": {
      "text/plain": [
       "array([[0.        , 0.25171654, 0.67933117, 0.10729142, 0.11021119,\n",
       "        0.12565305, 0.75487265, 0.62590345, 0.1863819 , 0.43821601],\n",
       "       [0.25171654, 0.        , 0.52769893, 0.52572083, 0.02910074,\n",
       "        0.64393098, 0.1593326 , 0.47512176, 0.18843303, 0.18454216],\n",
       "       [0.67933117, 0.52769893, 0.        , 0.51394921, 0.50290096,\n",
       "        0.68080058, 0.46072414, 0.00141727, 0.15795558, 0.09442377],\n",
       "       [0.10729142, 0.52572083, 0.51394921, 0.        , 0.31987984,\n",
       "        0.01216687, 1.02713477, 0.48148903, 0.17716149, 0.47033641],\n",
       "       [0.11021119, 0.02910074, 0.50290096, 0.31987984, 0.        ,\n",
       "        0.40557444, 0.29926414, 0.45108072, 0.12173825, 0.20237694],\n",
       "       [0.12565305, 0.64393098, 0.68080058, 0.01216687, 0.40557444,\n",
       "        0.        , 1.23302708, 0.64458914, 0.27862329, 0.62982499],\n",
       "       [0.75487265, 0.1593326 , 0.46072414, 1.02713477, 0.29926414,\n",
       "        1.23302708, 0.        , 0.42414057, 0.37660024, 0.16662198],\n",
       "       [0.62590345, 0.47512176, 0.00141727, 0.48148903, 0.45108072,\n",
       "        0.64458914, 0.42414057, 0.        , 0.13150712, 0.07418619],\n",
       "       [0.1863819 , 0.18843303, 0.15795558, 0.17716149, 0.12173825,\n",
       "        0.27862329, 0.37660024, 0.13150712, 0.        , 0.07084299],\n",
       "       [0.43821601, 0.18454216, 0.09442377, 0.47033641, 0.20237694,\n",
       "        0.62982499, 0.16662198, 0.07418619, 0.07084299, 0.        ]])"
      ]
     },
     "execution_count": 52,
     "metadata": {},
     "output_type": "execute_result"
    }
   ],
   "source": [
    "dist_sq"
   ]
  },
  {
   "cell_type": "code",
   "execution_count": 67,
   "metadata": {},
   "outputs": [
    {
     "name": "stdout",
     "output_type": "stream",
     "text": [
      "[0 0]\n"
     ]
    }
   ],
   "source": [
    "print(np.zeros(2, dtype = int))"
   ]
  },
  {
   "cell_type": "code",
   "execution_count": 19,
   "metadata": {},
   "outputs": [
    {
     "data": {
      "text/plain": [
       "array([[[0.37454012],\n",
       "        [0.95071431]],\n",
       "\n",
       "       [[0.73199394],\n",
       "        [0.59865848]],\n",
       "\n",
       "       [[0.15601864],\n",
       "        [0.15599452]],\n",
       "\n",
       "       [[0.05808361],\n",
       "        [0.86617615]],\n",
       "\n",
       "       [[0.60111501],\n",
       "        [0.70807258]],\n",
       "\n",
       "       [[0.02058449],\n",
       "        [0.96990985]],\n",
       "\n",
       "       [[0.83244264],\n",
       "        [0.21233911]],\n",
       "\n",
       "       [[0.18182497],\n",
       "        [0.18340451]],\n",
       "\n",
       "       [[0.30424224],\n",
       "        [0.52475643]],\n",
       "\n",
       "       [[0.43194502],\n",
       "        [0.29122914]]])"
      ]
     },
     "execution_count": 19,
     "metadata": {},
     "output_type": "execute_result"
    }
   ],
   "source": [
    "X[:, :, np.newaxis]"
   ]
  },
  {
   "cell_type": "code",
   "execution_count": 22,
   "metadata": {},
   "outputs": [],
   "source": [
    "Y = np.arange(0, 20).reshape(10, 2)"
   ]
  },
  {
   "cell_type": "code",
   "execution_count": 23,
   "metadata": {},
   "outputs": [
    {
     "data": {
      "text/plain": [
       "array([[ 0,  1],\n",
       "       [ 2,  3],\n",
       "       [ 4,  5],\n",
       "       [ 6,  7],\n",
       "       [ 8,  9],\n",
       "       [10, 11],\n",
       "       [12, 13],\n",
       "       [14, 15],\n",
       "       [16, 17],\n",
       "       [18, 19]])"
      ]
     },
     "execution_count": 23,
     "metadata": {},
     "output_type": "execute_result"
    }
   ],
   "source": [
    "Y"
   ]
  },
  {
   "cell_type": "code",
   "execution_count": 50,
   "metadata": {},
   "outputs": [
    {
     "data": {
      "text/plain": [
       "array([[[ 0],\n",
       "        [ 1]],\n",
       "\n",
       "       [[ 2],\n",
       "        [ 3]],\n",
       "\n",
       "       [[ 4],\n",
       "        [ 5]],\n",
       "\n",
       "       [[ 6],\n",
       "        [ 7]],\n",
       "\n",
       "       [[ 8],\n",
       "        [ 9]],\n",
       "\n",
       "       [[10],\n",
       "        [11]],\n",
       "\n",
       "       [[12],\n",
       "        [13]],\n",
       "\n",
       "       [[14],\n",
       "        [15]],\n",
       "\n",
       "       [[16],\n",
       "        [17]],\n",
       "\n",
       "       [[18],\n",
       "        [19]]])"
      ]
     },
     "execution_count": 50,
     "metadata": {},
     "output_type": "execute_result"
    }
   ],
   "source": [
    "Y[:, :, np.newaxis]"
   ]
  },
  {
   "cell_type": "code",
   "execution_count": 26,
   "metadata": {},
   "outputs": [],
   "source": [
    "x = np.array([1, 2,3 ,4, 5,6])"
   ]
  },
  {
   "cell_type": "code",
   "execution_count": 27,
   "metadata": {},
   "outputs": [
    {
     "data": {
      "text/plain": [
       "array([1, 2, 3, 4, 5, 6])"
      ]
     },
     "execution_count": 27,
     "metadata": {},
     "output_type": "execute_result"
    }
   ],
   "source": [
    "x"
   ]
  },
  {
   "cell_type": "code",
   "execution_count": 29,
   "metadata": {},
   "outputs": [
    {
     "data": {
      "text/plain": [
       "(6,)"
      ]
     },
     "execution_count": 29,
     "metadata": {},
     "output_type": "execute_result"
    }
   ],
   "source": [
    "x.shape"
   ]
  },
  {
   "cell_type": "code",
   "execution_count": 44,
   "metadata": {},
   "outputs": [
    {
     "data": {
      "text/plain": [
       "array([[1],\n",
       "       [2],\n",
       "       [3],\n",
       "       [4],\n",
       "       [5],\n",
       "       [6]])"
      ]
     },
     "execution_count": 44,
     "metadata": {},
     "output_type": "execute_result"
    }
   ],
   "source": [
    "x[:,np.newaxis] "
   ]
  },
  {
   "cell_type": "code",
   "execution_count": 40,
   "metadata": {},
   "outputs": [
    {
     "data": {
      "text/plain": [
       "(6, 1)"
      ]
     },
     "execution_count": 40,
     "metadata": {},
     "output_type": "execute_result"
    }
   ],
   "source": [
    "x[:, np.newaxis].shape"
   ]
  },
  {
   "cell_type": "code",
   "execution_count": 5,
   "metadata": {},
   "outputs": [
    {
     "ename": "SyntaxError",
     "evalue": "name 'c' is assigned to before global declaration (<ipython-input-5-2f5e366add28>, line 5)",
     "output_type": "error",
     "traceback": [
      "\u001b[0;36m  File \u001b[0;32m\"<ipython-input-5-2f5e366add28>\"\u001b[0;36m, line \u001b[0;32m5\u001b[0m\n\u001b[0;31mSyntaxError\u001b[0m\u001b[0;31m:\u001b[0m name 'c' is assigned to before global declaration\n"
     ]
    }
   ],
   "source": [
    "c = 12\n",
    "global c"
   ]
  },
  {
   "cell_type": "code",
   "execution_count": 2,
   "metadata": {},
   "outputs": [],
   "source": []
  },
  {
   "cell_type": "code",
   "execution_count": null,
   "metadata": {},
   "outputs": [],
   "source": []
  }
 ],
 "metadata": {
  "kernelspec": {
   "display_name": "Python 3",
   "language": "python",
   "name": "python3"
  },
  "language_info": {
   "codemirror_mode": {
    "name": "ipython",
    "version": 3
   },
   "file_extension": ".py",
   "mimetype": "text/x-python",
   "name": "python",
   "nbconvert_exporter": "python",
   "pygments_lexer": "ipython3",
   "version": "3.7.6"
  },
  "toc": {
   "base_numbering": 1,
   "nav_menu": {},
   "number_sections": true,
   "sideBar": true,
   "skip_h1_title": false,
   "title_cell": "Table of Contents",
   "title_sidebar": "Contents",
   "toc_cell": false,
   "toc_position": {},
   "toc_section_display": true,
   "toc_window_display": false
  },
  "varInspector": {
   "cols": {
    "lenName": 16,
    "lenType": 16,
    "lenVar": 40
   },
   "kernels_config": {
    "python": {
     "delete_cmd_postfix": "",
     "delete_cmd_prefix": "del ",
     "library": "var_list.py",
     "varRefreshCmd": "print(var_dic_list())"
    },
    "r": {
     "delete_cmd_postfix": ") ",
     "delete_cmd_prefix": "rm(",
     "library": "var_list.r",
     "varRefreshCmd": "cat(var_dic_list()) "
    }
   },
   "types_to_exclude": [
    "module",
    "function",
    "builtin_function_or_method",
    "instance",
    "_Feature"
   ],
   "window_display": false
  }
 },
 "nbformat": 4,
 "nbformat_minor": 4
}
