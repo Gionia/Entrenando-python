{
 "cells": [
  {
   "cell_type": "code",
   "execution_count": 1,
   "metadata": {},
   "outputs": [],
   "source": [
    "class dis_measure:\n",
    "    \"\"\"This class calcules the principal dispersion measure \n",
    "        \"\"\"\n",
    "    \n",
    "    import numpy as np\n",
    "    \n",
    "    def __init__(self, x, fx):\n",
    "        \"\"\"This class uses a constructor tht initialize the atribute \n",
    "        x -> the domain of function\n",
    "        fx -> the range of function\n",
    "        miu-> mathematical expect\n",
    "        va-> variance\"\"\"\n",
    "        self.x = np.array(x)\n",
    "        self.fx = np.array(fx)\n",
    "        \n",
    "        self.miu = np.sum(self.x * self.fx)\n",
    "        \n",
    "        x_2 = self.x * self.x\n",
    "        Ex_2 = x_2 * self.fx \n",
    "        va = np.sum(Ex_2) - self.miu * self.miu\n",
    "        self.va = round(va, 2)\n",
    "        \n",
    "    def __str__(self):\n",
    "        s = \"|  x |\"\n",
    "        for i in range(len(self.x)):\n",
    "            s = s + f\"{self.x[i]: ^8}|\"\n",
    "        s = s + \"\\n\" + \"| fx |\"\n",
    "        for i in range(len(self.fx)):\n",
    "            s = s + f\"{self.fx[i]: ^8}|\"\n",
    "        return s\n",
    "    \n",
    "    def median(self):\n",
    "        return self.miu\n",
    "    \n",
    "    def variance(self):\n",
    "        return self.va\n",
    "    \n",
    "    def desv_std(self):\n",
    "        self.d_s = np.sqrt(self.va)\n",
    "        return round(self.d_s, 3)\n",
    "    \n",
    "    "
   ]
  },
  {
   "cell_type": "code",
   "execution_count": 2,
   "metadata": {},
   "outputs": [],
   "source": [
    "\n",
    "x = [0, 1 , 2, 3, 4]\n",
    "fx =[0.41, 0.37, 0.16, 0.05, 0.01]\n",
    "a = !pwd"
   ]
  },
  {
   "cell_type": "code",
   "execution_count": 3,
   "metadata": {},
   "outputs": [
    {
     "name": "stdout",
     "output_type": "stream",
     "text": [
      "['/home/giovannyencinia/Documents/Programs/Python/Probability']\n"
     ]
    }
   ],
   "source": [
    "print(a)"
   ]
  },
  {
   "cell_type": "code",
   "execution_count": 4,
   "metadata": {},
   "outputs": [
    {
     "ename": "NameError",
     "evalue": "name 'variable' is not defined",
     "output_type": "error",
     "traceback": [
      "\u001b[0;31m---------------------------------------------------------------------------\u001b[0m",
      "\u001b[0;31mNameError\u001b[0m                                 Traceback (most recent call last)",
      "\u001b[0;32m<ipython-input-4-503d059fc525>\u001b[0m in \u001b[0;36m<module>\u001b[0;34m\u001b[0m\n\u001b[0;32m----> 1\u001b[0;31m \u001b[0mprint\u001b[0m\u001b[0;34m(\u001b[0m\u001b[0mvariable\u001b[0m\u001b[0;34m)\u001b[0m\u001b[0;34m\u001b[0m\u001b[0;34m\u001b[0m\u001b[0m\n\u001b[0m",
      "\u001b[0;31mNameError\u001b[0m: name 'variable' is not defined"
     ]
    }
   ],
   "source": [
    "print(variable)"
   ]
  },
  {
   "cell_type": "code",
   "execution_count": 5,
   "metadata": {},
   "outputs": [
    {
     "ename": "NameError",
     "evalue": "name 'variable' is not defined",
     "output_type": "error",
     "traceback": [
      "\u001b[0;31m---------------------------------------------------------------------------\u001b[0m",
      "\u001b[0;31mNameError\u001b[0m                                 Traceback (most recent call last)",
      "\u001b[0;32m<ipython-input-5-6d62fdbb6f4b>\u001b[0m in \u001b[0;36m<module>\u001b[0;34m\u001b[0m\n\u001b[0;32m----> 1\u001b[0;31m \u001b[0mvariable\u001b[0m\u001b[0;34m.\u001b[0m\u001b[0mdesv_std\u001b[0m\u001b[0;34m(\u001b[0m\u001b[0;34m)\u001b[0m\u001b[0;34m\u001b[0m\u001b[0;34m\u001b[0m\u001b[0m\n\u001b[0m",
      "\u001b[0;31mNameError\u001b[0m: name 'variable' is not defined"
     ]
    }
   ],
   "source": [
    "variable.desv_std()"
   ]
  },
  {
   "cell_type": "code",
   "execution_count": 34,
   "metadata": {},
   "outputs": [],
   "source": [
    "np.array??"
   ]
  },
  {
   "cell_type": "code",
   "execution_count": 35,
   "metadata": {},
   "outputs": [],
   "source": [
    "np.matrix??"
   ]
  },
  {
   "cell_type": "code",
   "execution_count": 50,
   "metadata": {},
   "outputs": [
    {
     "name": "stdout",
     "output_type": "stream",
     "text": [
      "Help on class dis_measure in module __main__:\n",
      "\n",
      "class dis_measure(builtins.object)\n",
      " |  dis_measure(x, fx)\n",
      " |  \n",
      " |  This class calcules the principal dispersion measure\n",
      " |  \n",
      " |  Methods defined here:\n",
      " |  \n",
      " |  __init__(self, x, fx)\n",
      " |      This class uses a constructor tht initialize the atribute \n",
      " |      x -> the domain of function\n",
      " |      fx -> the range of function\n",
      " |      miu-> mathematical expect\n",
      " |      va-> variance\n",
      " |  \n",
      " |  __str__(self)\n",
      " |      Return str(self).\n",
      " |  \n",
      " |  desv_std(self)\n",
      " |  \n",
      " |  median(self)\n",
      " |  \n",
      " |  variance(self)\n",
      " |  \n",
      " |  ----------------------------------------------------------------------\n",
      " |  Data descriptors defined here:\n",
      " |  \n",
      " |  __dict__\n",
      " |      dictionary for instance variables (if defined)\n",
      " |  \n",
      " |  __weakref__\n",
      " |      list of weak references to the object (if defined)\n",
      " |  \n",
      " |  ----------------------------------------------------------------------\n",
      " |  Data and other attributes defined here:\n",
      " |  \n",
      " |  np = <module 'numpy' from '/home/giovannyencinia/anac...3/lib/python3....\n",
      "\n"
     ]
    }
   ],
   "source": [
    "help(dis_measure)"
   ]
  },
  {
   "cell_type": "code",
   "execution_count": null,
   "metadata": {},
   "outputs": [],
   "source": []
  }
 ],
 "metadata": {
  "kernelspec": {
   "display_name": "Python 3",
   "language": "python",
   "name": "python3"
  },
  "language_info": {
   "codemirror_mode": {
    "name": "ipython",
    "version": 3
   },
   "file_extension": ".py",
   "mimetype": "text/x-python",
   "name": "python",
   "nbconvert_exporter": "python",
   "pygments_lexer": "ipython3",
   "version": "3.7.6"
  },
  "toc": {
   "base_numbering": 1,
   "nav_menu": {},
   "number_sections": true,
   "sideBar": true,
   "skip_h1_title": false,
   "title_cell": "Table of Contents",
   "title_sidebar": "Contents",
   "toc_cell": false,
   "toc_position": {},
   "toc_section_display": true,
   "toc_window_display": false
  },
  "varInspector": {
   "cols": {
    "lenName": 16,
    "lenType": 16,
    "lenVar": 40
   },
   "kernels_config": {
    "python": {
     "delete_cmd_postfix": "",
     "delete_cmd_prefix": "del ",
     "library": "var_list.py",
     "varRefreshCmd": "print(var_dic_list())"
    },
    "r": {
     "delete_cmd_postfix": ") ",
     "delete_cmd_prefix": "rm(",
     "library": "var_list.r",
     "varRefreshCmd": "cat(var_dic_list()) "
    }
   },
   "types_to_exclude": [
    "module",
    "function",
    "builtin_function_or_method",
    "instance",
    "_Feature"
   ],
   "window_display": false
  }
 },
 "nbformat": 4,
 "nbformat_minor": 4
}
