{
 "cells": [
  {
   "cell_type": "code",
   "execution_count": 18,
   "metadata": {},
   "outputs": [],
   "source": [
    "class JointProb:\n",
    "    \"\"\"Joint probability, the argumenrts refers the axe x and the axe y\n",
    "       this axes forms a matrix of m*n when m is the dimension that \n",
    "       takes the size of the amount of x's values and n is the dimension of \n",
    "        takes the size of amount of y's values\"\"\"\n",
    "    \n",
    "    import numpy as np\n",
    "    \n",
    "    def __init__(self, x, y):\n",
    "        self.x = np.array(x)\n",
    "        self.y = np.array(y)\n",
    "        #self.fxy = [float(input(f\"Enter the values of f({x[i]},{y[j]})\")) \n",
    "                    #for i in range(len(x)) \n",
    "                    #for j in range(len(y))]\n",
    "        self.fxy= [3/28, 9/28, 3/28, 3/14, 3/14, 0, 1/28, 0, 0]\n",
    "        self.fxy = np.array(self.fxy).reshape((len(y), len(x)))\n",
    "        self.gx = sum(np.split(self.fxy, len(self.y)))\n",
    "        self.fxyT = self.fxy.T\n",
    "        self.hy = sum(np.split(self.fxyT, len(self.x)))\n",
    "    \n",
    "    def mean_x(self):\n",
    "        x_gx = self.x * self.gx[0]\n",
    "        meanx = sum(x_gx)\n",
    "        return meanx\n",
    "    \n",
    "    def mean_y(self):\n",
    "        meany = sum(self.y * self.hy[0]) #el indice cero es debido a que self.hy [[]]\n",
    "        return meany\n",
    "    \n",
    "    def E_xy(self):\n",
    "        \"\"\" this is the transformation E(XY)\"\"\"\n",
    "        _x = np.empty((len(y), len(x)))\n",
    "        _y= np.empty((len(y), len(x)))\n",
    "        np.multiply.outer(self.x, self.x, out = _x)\n",
    "        np.multiply.outer(self.y, self.y, out = _y)\n",
    "        exy = sum((_x * _y * self.fxy).flatten())  \n",
    "        return exy\n",
    "    \n",
    "    def var_x(self):\n",
    "        x_2_gx = self.x * self.x * self.gx #Esta en dos dimensiones [[]]\n",
    "        var_x = sum(x_2_gx[0]) - self.mean_x()**2\n",
    "        return var_x\n",
    "    \n",
    "    def var_y(self):\n",
    "        y_2_hy = self.y * self.y * self.hy\n",
    "        var_y = sum(y_2_hy[0]) - self.mean_y()**2\n",
    "        return var_y\n",
    "    \n",
    "    def desv_stdx(self):\n",
    "        dsv_std_x = np.sqrt(self.var_x())\n",
    "        return dsv_std_x\n",
    "    \n",
    "    def desv_stdy(self):\n",
    "        dsv_std_y = np.sqrt(self.var_y())\n",
    "        return dsv_std_y\n",
    "    \n",
    "    def covariance(self):\n",
    "        cov = self.E_xy() - self.mean_x() * self.mean_y()\n",
    "        return cov\n",
    "    \n",
    "    def c_factor(self):\n",
    "        correlation_factor = self.covariance() / (self.desv_stdy()*self.desv_stdx())\n",
    "        return correlation_factor"
   ]
  },
  {
   "cell_type": "code",
   "execution_count": 19,
   "metadata": {},
   "outputs": [],
   "source": [
    "x = [0, 1, 2]\n",
    "y = [0, 1, 2]\n",
    "cov = JointProb(x, y)"
   ]
  },
  {
   "cell_type": "code",
   "execution_count": 20,
   "metadata": {},
   "outputs": [],
   "source": [
    "a = np.array([3/28, 9/28, 3/28, 3/14, 3/14, 0, 1/28, 0, 0])"
   ]
  },
  {
   "cell_type": "code",
   "execution_count": 21,
   "metadata": {},
   "outputs": [
    {
     "name": "stdout",
     "output_type": "stream",
     "text": [
      "[0.10714286 0.32142857 0.10714286 0.21428571 0.21428571 0.\n",
      " 0.03571429 0.         0.        ]\n"
     ]
    }
   ],
   "source": [
    "print(a)"
   ]
  },
  {
   "cell_type": "code",
   "execution_count": 22,
   "metadata": {},
   "outputs": [
    {
     "data": {
      "text/plain": [
       "-0.44721359549995804"
      ]
     },
     "execution_count": 22,
     "metadata": {},
     "output_type": "execute_result"
    }
   ],
   "source": [
    "cov.c_factor()"
   ]
  },
  {
   "cell_type": "code",
   "execution_count": 275,
   "metadata": {},
   "outputs": [
    {
     "data": {
      "text/plain": [
       "-0.4472135954999579"
      ]
     },
     "execution_count": 275,
     "metadata": {},
     "output_type": "execute_result"
    }
   ],
   "source": [
    "-1 / np.sqrt(5)"
   ]
  },
  {
   "cell_type": "code",
   "execution_count": 241,
   "metadata": {},
   "outputs": [
    {
     "data": {
      "text/plain": [
       "0.4017857142857143"
      ]
     },
     "execution_count": 241,
     "metadata": {},
     "output_type": "execute_result"
    }
   ],
   "source": [
    "45/112"
   ]
  },
  {
   "cell_type": "code",
   "execution_count": 135,
   "metadata": {},
   "outputs": [],
   "source": [
    "a, b = np.split(a, 2)"
   ]
  },
  {
   "cell_type": "code",
   "execution_count": 143,
   "metadata": {},
   "outputs": [
    {
     "data": {
      "text/plain": [
       "array([[1., 1., 1.],\n",
       "       [1., 1., 1.]])"
      ]
     },
     "execution_count": 143,
     "metadata": {},
     "output_type": "execute_result"
    }
   ],
   "source": [
    "np.ones((2,3))"
   ]
  },
  {
   "cell_type": "code",
   "execution_count": 276,
   "metadata": {},
   "outputs": [
    {
     "name": "stdout",
     "output_type": "stream",
     "text": [
      "Help on class JointProb in module __main__:\n",
      "\n",
      "class JointProb(builtins.object)\n",
      " |  JointProb(x, y)\n",
      " |  \n",
      " |  Joint probability, the argumenrts refers the axe x and the axe y\n",
      " |  this axes forms a matrix of m*n when m is the dimension that \n",
      " |  takes the size of the amount of x's values and n is the dimension of \n",
      " |   takes the size of amount of y's values\n",
      " |  \n",
      " |  Methods defined here:\n",
      " |  \n",
      " |  E_xy(self)\n",
      " |      this is the transformation E(XY)\n",
      " |  \n",
      " |  __init__(self, x, y)\n",
      " |      Initialize self.  See help(type(self)) for accurate signature.\n",
      " |  \n",
      " |  c_factor(self)\n",
      " |  \n",
      " |  covariance(self)\n",
      " |  \n",
      " |  desv_stdx(self)\n",
      " |  \n",
      " |  desv_stdy(self)\n",
      " |  \n",
      " |  mean_x(self)\n",
      " |  \n",
      " |  mean_y(self)\n",
      " |  \n",
      " |  var_x(self)\n",
      " |  \n",
      " |  var_y(self)\n",
      " |  \n",
      " |  ----------------------------------------------------------------------\n",
      " |  Data descriptors defined here:\n",
      " |  \n",
      " |  __dict__\n",
      " |      dictionary for instance variables (if defined)\n",
      " |  \n",
      " |  __weakref__\n",
      " |      list of weak references to the object (if defined)\n",
      " |  \n",
      " |  ----------------------------------------------------------------------\n",
      " |  Data and other attributes defined here:\n",
      " |  \n",
      " |  np = <module 'numpy' from '/home/giovannyencinia/anac...3/lib/python3....\n",
      "\n"
     ]
    }
   ],
   "source": [
    "help(JointProb)"
   ]
  },
  {
   "cell_type": "code",
   "execution_count": 7,
   "metadata": {},
   "outputs": [],
   "source": [
    "zz = np.arange(6)"
   ]
  },
  {
   "cell_type": "code",
   "execution_count": 12,
   "metadata": {},
   "outputs": [
    {
     "data": {
      "text/plain": [
       "array([[ 0.,  0.,  0.,  0.,  0.,  0.],\n",
       "       [ 0.,  1.,  2.,  3.,  4.,  5.],\n",
       "       [ 0.,  2.,  4.,  6.,  8., 10.],\n",
       "       [ 0.,  3.,  6.,  9., 12., 15.],\n",
       "       [ 0.,  4.,  8., 12., 16., 20.],\n",
       "       [ 0.,  5., 10., 15., 20., 25.]])"
      ]
     },
     "execution_count": 12,
     "metadata": {},
     "output_type": "execute_result"
    }
   ],
   "source": [
    "yy = np.empty((6,6))\n",
    "np.multiply.outer(zz, zz, out = yy)"
   ]
  },
  {
   "cell_type": "code",
   "execution_count": null,
   "metadata": {},
   "outputs": [],
   "source": []
  }
 ],
 "metadata": {
  "kernelspec": {
   "display_name": "Python 3",
   "language": "python",
   "name": "python3"
  },
  "language_info": {
   "codemirror_mode": {
    "name": "ipython",
    "version": 3
   },
   "file_extension": ".py",
   "mimetype": "text/x-python",
   "name": "python",
   "nbconvert_exporter": "python",
   "pygments_lexer": "ipython3",
   "version": "3.7.6"
  },
  "toc": {
   "base_numbering": 1,
   "nav_menu": {},
   "number_sections": true,
   "sideBar": true,
   "skip_h1_title": false,
   "title_cell": "Table of Contents",
   "title_sidebar": "Contents",
   "toc_cell": false,
   "toc_position": {},
   "toc_section_display": true,
   "toc_window_display": false
  },
  "varInspector": {
   "cols": {
    "lenName": 16,
    "lenType": 16,
    "lenVar": 40
   },
   "kernels_config": {
    "python": {
     "delete_cmd_postfix": "",
     "delete_cmd_prefix": "del ",
     "library": "var_list.py",
     "varRefreshCmd": "print(var_dic_list())"
    },
    "r": {
     "delete_cmd_postfix": ") ",
     "delete_cmd_prefix": "rm(",
     "library": "var_list.r",
     "varRefreshCmd": "cat(var_dic_list()) "
    }
   },
   "types_to_exclude": [
    "module",
    "function",
    "builtin_function_or_method",
    "instance",
    "_Feature"
   ],
   "window_display": false
  }
 },
 "nbformat": 4,
 "nbformat_minor": 4
}
