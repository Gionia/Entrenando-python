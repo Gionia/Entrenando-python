{
 "cells": [
  {
   "cell_type": "code",
   "execution_count": 7,
   "metadata": {},
   "outputs": [
    {
     "name": "stdout",
     "output_type": "stream",
     "text": [
      "low= 0.0 high= 8 ans= 4.0\n",
      "numGuesses= 1\n",
      "2.0 is close to cube root of 8\n"
     ]
    }
   ],
   "source": [
    "x=8\n",
    "epsilon=0.01\n",
    "num=0\n",
    "if x<0:\n",
    "    high=0.0\n",
    "    low=min(-1.0,x)\n",
    "    a=-1.0\n",
    "else:\n",
    "    low=0.0\n",
    "    high=max(1.0,x)\n",
    "    a=1\n",
    "ans=(high+low)/2.0\n",
    "while abs(ans**3 - x) >= epsilon:\n",
    "    print('low=',low,'high=',high,'ans=',ans)\n",
    "    num+=a\n",
    "    if ans**3<x:\n",
    "        low=ans\n",
    "    else:\n",
    "        high=ans\n",
    "    ans=(high+low)/2.0\n",
    "print('numGuesses=', abs(num))\n",
    "print(ans,'is close to cube root of',x)"
   ]
  },
  {
   "cell_type": "code",
   "execution_count": null,
   "metadata": {},
   "outputs": [],
   "source": []
  }
 ],
 "metadata": {
  "kernelspec": {
   "display_name": "Python 3",
   "language": "python",
   "name": "python3"
  },
  "language_info": {
   "codemirror_mode": {
    "name": "ipython",
    "version": 3
   },
   "file_extension": ".py",
   "mimetype": "text/x-python",
   "name": "python",
   "nbconvert_exporter": "python",
   "pygments_lexer": "ipython3",
   "version": "3.7.6"
  },
  "toc": {
   "base_numbering": 1,
   "nav_menu": {},
   "number_sections": true,
   "sideBar": true,
   "skip_h1_title": false,
   "title_cell": "Table of Contents",
   "title_sidebar": "Contents",
   "toc_cell": false,
   "toc_position": {},
   "toc_section_display": true,
   "toc_window_display": false
  },
  "varInspector": {
   "cols": {
    "lenName": 16,
    "lenType": 16,
    "lenVar": 40
   },
   "kernels_config": {
    "python": {
     "delete_cmd_postfix": "",
     "delete_cmd_prefix": "del ",
     "library": "var_list.py",
     "varRefreshCmd": "print(var_dic_list())"
    },
    "r": {
     "delete_cmd_postfix": ") ",
     "delete_cmd_prefix": "rm(",
     "library": "var_list.r",
     "varRefreshCmd": "cat(var_dic_list()) "
    }
   },
   "types_to_exclude": [
    "module",
    "function",
    "builtin_function_or_method",
    "instance",
    "_Feature"
   ],
   "window_display": false
  }
 },
 "nbformat": 4,
 "nbformat_minor": 2
}
