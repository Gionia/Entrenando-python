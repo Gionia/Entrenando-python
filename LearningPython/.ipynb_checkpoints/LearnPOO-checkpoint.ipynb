{
 "cells": [
  {
   "cell_type": "code",
   "execution_count": 54,
   "metadata": {},
   "outputs": [
    {
     "data": {
      "text/plain": [
       "'hola'"
      ]
     },
     "execution_count": 54,
     "metadata": {},
     "output_type": "execute_result"
    }
   ],
   "source": [
    "class persona: # se crea un clase\n",
    "    saludo='hola'#los statmets o funciones dentro de esta clase se llaman atributos\n",
    "doctor=persona()\n",
    "doctor.saludo"
   ]
  },
  {
   "cell_type": "code",
   "execution_count": 62,
   "metadata": {},
   "outputs": [
    {
     "name": "stdout",
     "output_type": "stream",
     "text": [
      "vaya vaya\n"
     ]
    },
    {
     "data": {
      "text/plain": [
       "'papapa'"
      ]
     },
     "execution_count": 62,
     "metadata": {},
     "output_type": "execute_result"
    }
   ],
   "source": [
    "class hola:\n",
    "    ki=9\n",
    "    \n",
    "    def __init__(self,n,m): #un metodo el __init__ se corre en automatico el def con __init__\n",
    "        self.suma=n+m\n",
    "        self.resta=n-m\n",
    "    def hoi(self): #las funciones dentro de la clase se llaman metodos\n",
    "        self.kaka='papapa'\n",
    "        print('vaya vaya')\n",
    "        self.n9=99\n",
    "oper=hola(2,3) #debido al init debemos otorgar los parametros del metodo y yambien se crea un objeto llamado oper\n",
    "oper.suma\n",
    "oper.resta\n",
    "lal=hola(1,2)\n",
    "lal.hoi() #se llama a un metodo dentro de la clase\n",
    "lal.kaka #se extrae un statment de la funcion dentro del metodo"
   ]
  },
  {
   "cell_type": "markdown",
   "metadata": {},
   "source": [
    "## Se pueden extraer atributos directamente con funciones reservadas\n"
   ]
  },
  {
   "cell_type": "code",
   "execution_count": 64,
   "metadata": {},
   "outputs": [
    {
     "data": {
      "text/plain": [
       "9"
      ]
     },
     "execution_count": 64,
     "metadata": {},
     "output_type": "execute_result"
    }
   ],
   "source": [
    "getattr(oper,'ki')"
   ]
  },
  {
   "cell_type": "code",
   "execution_count": 65,
   "metadata": {},
   "outputs": [
    {
     "data": {
      "text/plain": [
       "True"
      ]
     },
     "execution_count": 65,
     "metadata": {},
     "output_type": "execute_result"
    }
   ],
   "source": [
    "hasattr(oper,'ki')"
   ]
  },
  {
   "cell_type": "code",
   "execution_count": 66,
   "metadata": {},
   "outputs": [],
   "source": [
    "setattr(oper,'ki','kdkdkkdkd')# cambia el valor del atributo"
   ]
  },
  {
   "cell_type": "code",
   "execution_count": 67,
   "metadata": {},
   "outputs": [
    {
     "data": {
      "text/plain": [
       "'kdkdkkdkd'"
      ]
     },
     "execution_count": 67,
     "metadata": {},
     "output_type": "execute_result"
    }
   ],
   "source": [
    "oper.ki #"
   ]
  },
  {
   "cell_type": "code",
   "execution_count": null,
   "metadata": {},
   "outputs": [],
   "source": []
  }
 ],
 "metadata": {
  "kernelspec": {
   "display_name": "Python 3",
   "language": "python",
   "name": "python3"
  },
  "language_info": {
   "codemirror_mode": {
    "name": "ipython",
    "version": 3
   },
   "file_extension": ".py",
   "mimetype": "text/x-python",
   "name": "python",
   "nbconvert_exporter": "python",
   "pygments_lexer": "ipython3",
   "version": "3.7.6"
  }
 },
 "nbformat": 4,
 "nbformat_minor": 2
}
