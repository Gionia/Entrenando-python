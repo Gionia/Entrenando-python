{
 "cells": [
  {
   "cell_type": "markdown",
   "metadata": {},
   "source": [
    "# Librerias para visualización de datos\n",
    "*1. matplotlib: Es criticada por su estética ,fue la primera en crearse pero algunas librerias se basan en ella, como pndas y seaborn. Es el método mas simple para las representaciones básicas*\n",
    "\n",
    "*2. seaborn: se integra bien con Pandas es muy popular puesto que hace atractivis gráficos, tiene muchas fuciones, se usa para machine learning, es ideal para crear gráficos estádisticos visualmente atractivos*\n",
    "\n",
    "*3. Bokeh: cualquier tipo de diagrama gráfico interactivo para la web y se usa bien con javascript, parcelas interactivas, tiene interfaces. Funciona bien para visualizaciones complicadas e ideal para presentaciones interactivas basadas en la web*\n",
    "\n",
    "* *El nivel más alto es para crear gráficos rápidamente*\n",
    "* *El nivel medio tiene la misma especialidad de matplotlib*\n",
    "* *El nivel más bajo está dirigido a desarrolladores e ingenieros de software*\n",
    "\n",
    "*4. Pygal: Es una parte de la librería de Python exporta gráficos vectoriales, tiene simplicidad y personalización, no se puede renderizar con muchos datos. Funciona bien para crear vectores y archivos interactivos pero no tiene flelxibilidad co otros metodos*\n",
    "\n",
    "*5. plotly: Es una herramienta de visualización en línea que se usa para el análisis de datos, gráficos científicos y otras visualizaciones, es una herramienta interactiva en linea, por lo tanto lo que se esta creando en ella es publicado en la web. Es la opcion más útil y fácil para crear visualizaciones interactivas basadas en la web*"
   ]
  },
  {
   "cell_type": "markdown",
   "metadata": {},
   "source": [
    "# Elegir la gráfica correcta"
   ]
  },
  {
   "cell_type": "markdown",
   "metadata": {},
   "source": [
    "### Gráficos de columnas: Column Chart\n",
    "Se utiliza  para comparar diferentes valores cuando los específicos son importantes, y se espera  que los usuarios busquen y comparen en valores individuales entre cada columna.\n",
    "\n",
    "Los más importantes son:\n",
    "\n",
    "* *Histogramas de columnas*\n",
    "* *Gráficos de columnas apiladas (no poner más de cuatro elementos de composicion)*\n"
   ]
  },
  {
   "cell_type": "markdown",
   "metadata": {},
   "source": [
    "#### Composiciones\n",
    "*Cambia en el tiempo y contiene pocos periodos y se aplica a dos casos:*\n",
    "*  *Existen solo diferencias relativas: aquí se usa un gráfico de columnas apiladas*\n",
    "* *Existen diferencias relativas y absolutas: se suelen usar gráfico de columnas*"
   ]
  },
  {
   "cell_type": "markdown",
   "metadata": {},
   "source": [
    "#### Distribuciones\n",
    "*Se usa el histograma de columnas cuando se tiene una variable o pocos datos*"
   ]
  },
  {
   "cell_type": "markdown",
   "metadata": {},
   "source": [
    "#### Comparaciones\n",
    "* *Gráfico de columnas se usa cuando se comparan items con muchas categorías, debe haber una variable por item.*\n",
    "* *Grafico de columnas si se quiere comparra en el tiempo con pocos periodos y se cuentan con pocas categorias*"
   ]
  },
  {
   "cell_type": "markdown",
   "metadata": {},
   "source": [
    "## Gráficos de barras: Bar Chart\n",
    "*Se usa si tienes nombres de categorias largos, cuando el número de categorías sea mayor a siete, pero no más de quince, o para mostrar un conjunto con números negativos.*\n",
    "*Los principales son:*\n",
    "* *Histograma de barras*\n",
    "* *Gráfico de barras apiladas*"
   ]
  },
  {
   "cell_type": "markdown",
   "metadata": {},
   "source": [
    "#### Comparaciones\n",
    "*El gráfico de barras se usa unicamente en items con pocas categorias y de una variable*"
   ]
  },
  {
   "cell_type": "markdown",
   "metadata": {},
   "source": [
    "## Gráficos de líneas\n",
    "*El propósito es mostrar tendencias, aceleraciones o desaceleraciones y volatilidad, muestran relaciones en cómo los datos cambian en un período de tiempo.*\n",
    "\n",
    "*Demasiadas líneas o variables pueden hacer que el cuadro sea complicado y difícil de descifrar, por lo que se tenga que hacer referencia constantemente a la leyenda para recordar qué es lo que esta mirando.*"
   ]
  },
  {
   "cell_type": "markdown",
   "metadata": {},
   "source": [
    "#### Distribuciones\n",
    "*Cuando se cuenta con una sola variable, pero con muchos datos.*"
   ]
  },
  {
   "cell_type": "markdown",
   "metadata": {},
   "source": [
    "#### Comparaciones\n",
    "*Cuando se hacen comparaciones en el tiempo y se tienen pocos periodos y muchas categorías, y también cuando se tiene muchos periodos y la data no es cíclica.*"
   ]
  },
  {
   "cell_type": "markdown",
   "metadata": {},
   "source": [
    "## Gráficos de área: area chart\n",
    "*Esta relacionado con los gráficos de lineas, relación de series temporales, son buenos para ve las tendencias en lugar de valores individuales*\n",
    "\n",
    "*Los más comunes son:*\n",
    "\n",
    "* *Gráficos de areas apiladas: Se usan mejor para mostrar los cambio en la composición a lo largo del tiempo. No los uses si necesitas una comparación exacta y no acumula más de tres o cinco categorías.*"
   ]
  },
  {
   "cell_type": "markdown",
   "metadata": {},
   "source": [
    "#### Composiciones\n",
    "* *Cuando existe cambio en el tiempo y se tiene muchos periodos*"
   ]
  },
  {
   "cell_type": "markdown",
   "metadata": {},
   "source": [
    "## Gráficos circulares – Pie Chart\n",
    "*Un gráfico circular generalmente representa números en porcentajes, que se utilizan para visualizar una parte de una relación completa o una composición. No estánn destinados a comparar secciones individuales entre sí o presentar valores exactos.*"
   ]
  },
  {
   "cell_type": "markdown",
   "metadata": {},
   "source": [
    "#### Composiciones\n",
    "*Se utiliza cuando se tiene una muestra simple total*"
   ]
  },
  {
   "cell_type": "markdown",
   "metadata": {},
   "source": [
    "#### Comparaciones\n",
    "*Se implemesnta cuando se hacen comparaciones a través del tiempo cuando se tienen muchos periodos y los datos son cíclicos*"
   ]
  },
  {
   "cell_type": "markdown",
   "metadata": {},
   "source": [
    "## Gráficos de dispersión – Scatter Chart\n",
    "*Los diagramas de dispersión se usan principalmente para el análisis de correlación y distribución. Es bueno para mostrar la relación entre dos variables diferentes donde una se correlaciona, o no, con otra.*\n",
    "\n",
    "*Los gráficos de dispersión también pueden mostrar la distribución de datos o las tendencias de agrupamiento y ayudarlo a detectar anomalías a valores típicos.*"
   ]
  },
  {
   "cell_type": "markdown",
   "metadata": {},
   "source": [
    "#### Distribuciones\n",
    "*Cuando se tienen dos variables*"
   ]
  },
  {
   "cell_type": "markdown",
   "metadata": {},
   "source": [
    "#### Relaciones\n",
    "*Cuando se tienen dos o tres variables*"
   ]
  },
  {
   "cell_type": "markdown",
   "metadata": {},
   "source": [
    "***Existen muchos otros tipos de gráficas, pero están son las más comunes, en resumen, se puede decir que los gráficos de barras son buenos para las comparaciones, mientras que los gráficos de líneas funcionan mejor para las tendencias. Los gráficos de diagrama de dispersión son buenos para las relaciones y las distribuciones, pero los gráficos circulares solo deben usarse para composiciones simples, nunca para comparaciones o distribuciones.***"
   ]
  },
  {
   "cell_type": "code",
   "execution_count": null,
   "metadata": {},
   "outputs": [],
   "source": []
  }
 ],
 "metadata": {
  "kernelspec": {
   "display_name": "Python 3",
   "language": "python",
   "name": "python3"
  },
  "language_info": {
   "codemirror_mode": {
    "name": "ipython",
    "version": 3
   },
   "file_extension": ".py",
   "mimetype": "text/x-python",
   "name": "python",
   "nbconvert_exporter": "python",
   "pygments_lexer": "ipython3",
   "version": "3.7.4"
  }
 },
 "nbformat": 4,
 "nbformat_minor": 2
}
