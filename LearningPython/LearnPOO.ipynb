{
 "cells": [
  {
   "cell_type": "code",
   "execution_count": 54,
   "metadata": {},
   "outputs": [
    {
     "data": {
      "text/plain": [
       "'hola'"
      ]
     },
     "execution_count": 54,
     "metadata": {},
     "output_type": "execute_result"
    }
   ],
   "source": [
    "class persona: # se crea un clase\n",
    "    saludo='hola'#los statmets o funciones dentro de esta clase se llaman atributos\n",
    "doctor=persona()\n",
    "doctor.saludo"
   ]
  },
  {
   "cell_type": "code",
   "execution_count": 62,
   "metadata": {},
   "outputs": [
    {
     "name": "stdout",
     "output_type": "stream",
     "text": [
      "vaya vaya\n"
     ]
    },
    {
     "data": {
      "text/plain": [
       "'papapa'"
      ]
     },
     "execution_count": 62,
     "metadata": {},
     "output_type": "execute_result"
    }
   ],
   "source": [
    "class hola:\n",
    "    ki=9\n",
    "    \n",
    "    def __init__(self,n,m): #un metodo el __init__ se corre en automatico el def con __init__\n",
    "        self.suma=n+m\n",
    "        self.resta=n-m\n",
    "    def hoi(self): #las funciones dentro de la clase se llaman metodos\n",
    "        self.kaka='papapa'\n",
    "        print('vaya vaya')\n",
    "        self.n9=99\n",
    "oper=hola(2,3) #debido al init debemos otorgar los parametros del metodo y yambien se crea un objeto llamado oper\n",
    "oper.suma\n",
    "oper.resta\n",
    "lal=hola(1,2)\n",
    "lal.hoi() #se llama a un metodo dentro de la clase\n",
    "lal.kaka #se extrae un statment de la funcion dentro del metodo"
   ]
  },
  {
   "cell_type": "markdown",
   "metadata": {},
   "source": [
    "## Se pueden extraer atributos directamente con funciones reservadas\n"
   ]
  },
  {
   "cell_type": "code",
   "execution_count": 64,
   "metadata": {},
   "outputs": [
    {
     "data": {
      "text/plain": [
       "9"
      ]
     },
     "execution_count": 64,
     "metadata": {},
     "output_type": "execute_result"
    }
   ],
   "source": [
    "getattr(oper,'ki')"
   ]
  },
  {
   "cell_type": "code",
   "execution_count": 65,
   "metadata": {},
   "outputs": [
    {
     "data": {
      "text/plain": [
       "True"
      ]
     },
     "execution_count": 65,
     "metadata": {},
     "output_type": "execute_result"
    }
   ],
   "source": [
    "hasattr(oper,'ki')"
   ]
  },
  {
   "cell_type": "code",
   "execution_count": 66,
   "metadata": {},
   "outputs": [],
   "source": [
    "setattr(oper,'ki','kdkdkkdkd')# cambia el valor del atributo"
   ]
  },
  {
   "cell_type": "code",
   "execution_count": 67,
   "metadata": {},
   "outputs": [
    {
     "data": {
      "text/plain": [
       "'kdkdkkdkd'"
      ]
     },
     "execution_count": 67,
     "metadata": {},
     "output_type": "execute_result"
    }
   ],
   "source": [
    "oper.ki #"
   ]
  },
  {
   "cell_type": "code",
   "execution_count": 70,
   "metadata": {},
   "outputs": [
    {
     "ename": "AttributeError",
     "evalue": "ki",
     "output_type": "error",
     "traceback": [
      "\u001b[0;31m---------------------------------------------------------------------------\u001b[0m",
      "\u001b[0;31mAttributeError\u001b[0m                            Traceback (most recent call last)",
      "\u001b[0;32m<ipython-input-70-1978e0a65142>\u001b[0m in \u001b[0;36m<module>\u001b[0;34m\u001b[0m\n\u001b[0;32m----> 1\u001b[0;31m \u001b[0mdelattr\u001b[0m\u001b[0;34m(\u001b[0m\u001b[0mhola\u001b[0m\u001b[0;34m,\u001b[0m\u001b[0;34m'ki'\u001b[0m\u001b[0;34m)\u001b[0m\u001b[0;34m\u001b[0m\u001b[0;34m\u001b[0m\u001b[0m\n\u001b[0m\u001b[1;32m      2\u001b[0m \u001b[0moper\u001b[0m\u001b[0;34m.\u001b[0m\u001b[0mki\u001b[0m\u001b[0;34m\u001b[0m\u001b[0;34m\u001b[0m\u001b[0m\n",
      "\u001b[0;31mAttributeError\u001b[0m: ki"
     ]
    }
   ],
   "source": [
    "delattr(hola,'ki')\n",
    "oper.ki"
   ]
  },
  {
   "cell_type": "code",
   "execution_count": 71,
   "metadata": {},
   "outputs": [
    {
     "data": {
      "text/plain": [
       "'kdkdkkdkd'"
      ]
     },
     "execution_count": 71,
     "metadata": {},
     "output_type": "execute_result"
    }
   ],
   "source": [
    "oper.ki"
   ]
  },
  {
   "cell_type": "markdown",
   "metadata": {},
   "source": [
    "# Constructores y herencia"
   ]
  },
  {
   "cell_type": "code",
   "execution_count": 94,
   "metadata": {},
   "outputs": [
    {
     "ename": "IndentationError",
     "evalue": "expected an indented block (<ipython-input-94-0ed375dab5e1>, line 4)",
     "output_type": "error",
     "traceback": [
      "\u001b[0;36m  File \u001b[0;32m\"<ipython-input-94-0ed375dab5e1>\"\u001b[0;36m, line \u001b[0;32m4\u001b[0m\n\u001b[0;31m    (''''''es un pokemon''''''\u001b[0m\n\u001b[0m    ^\u001b[0m\n\u001b[0;31mIndentationError\u001b[0m\u001b[0;31m:\u001b[0m expected an indented block\n"
     ]
    }
   ],
   "source": [
    "# Se crea una clase llamada pokemon\n",
    "class pokemon():\n",
    "    \n",
    "    # __init__ es conocido como constructor\n",
    "    def __init__(self,nombre,tipo):\n",
    "        self.nombre=nombre\n",
    "        self.tipo=tipo\n",
    "        \n",
    "    def description(self):\n",
    "        return '{n} es un pokemon de tipo {t}'.format(n=self.nombre,t=self.tipo)\n",
    "\n",
    "# la clase pikachu recibe todos los atributos y metodos de la clase pokemon,\n",
    "#es necesario poner pokemon entre ()\n",
    "class pikachu(pokemon):\n",
    "    def tipoataque(self,tipoataque):\n",
    "        return '{n} tiene el ataque tipo: {a}'.format(n=self.nombre,a=tipoataque)\n",
    "    \n",
    "\n",
    "\n",
    "mipokemon=pikachu('amigo','electrico')\n",
    "mipokemon.description()\n"
   ]
  },
  {
   "cell_type": "code",
   "execution_count": 85,
   "metadata": {},
   "outputs": [
    {
     "data": {
      "text/plain": [
       "'amigo tiene el ataque tipo: impactrueno'"
      ]
     },
     "execution_count": 85,
     "metadata": {},
     "output_type": "execute_result"
    }
   ],
   "source": [
    "mipokemon.tipoataque('impactrueno')"
   ]
  },
  {
   "cell_type": "markdown",
   "metadata": {},
   "source": [
    "# Funciones de prueba"
   ]
  },
  {
   "cell_type": "code",
   "execution_count": 168,
   "metadata": {},
   "outputs": [
    {
     "name": "stdout",
     "output_type": "stream",
     "text": [
      "True\n",
      "True\n"
     ]
    }
   ],
   "source": [
    "print(isinstance(mipokemon,pikachu))\n",
    "print(issubclass(pikachu,pokemon))\n",
    "\n"
   ]
  },
  {
   "cell_type": "code",
   "execution_count": 142,
   "metadata": {},
   "outputs": [
    {
     "data": {
      "text/plain": [
       "['1', '2', '3', '5', '4', '4']"
      ]
     },
     "execution_count": 142,
     "metadata": {},
     "output_type": "execute_result"
    }
   ],
   "source": [
    "points"
   ]
  },
  {
   "cell_type": "code",
   "execution_count": 137,
   "metadata": {},
   "outputs": [
    {
     "ename": "SyntaxError",
     "evalue": "invalid syntax (<ipython-input-137-8c3b4783f982>, line 1)",
     "output_type": "error",
     "traceback": [
      "\u001b[0;36m  File \u001b[0;32m\"<ipython-input-137-8c3b4783f982>\"\u001b[0;36m, line \u001b[0;32m1\u001b[0m\n\u001b[0;31m    p={n: for n in 'hola'}\u001b[0m\n\u001b[0m            ^\u001b[0m\n\u001b[0;31mSyntaxError\u001b[0m\u001b[0;31m:\u001b[0m invalid syntax\n"
     ]
    }
   ],
   "source": [
    "p={n: for n in 'hola'}"
   ]
  },
  {
   "cell_type": "code",
   "execution_count": 138,
   "metadata": {},
   "outputs": [
    {
     "data": {
      "text/plain": [
       "{'h': ['hola', 'a'],\n",
       " 'o': ['hola', 'a'],\n",
       " 'l': ['hola', 'a'],\n",
       " 'a': ['hola', 'a']}"
      ]
     },
     "execution_count": 138,
     "metadata": {},
     "output_type": "execute_result"
    }
   ],
   "source": [
    "p"
   ]
  },
  {
   "cell_type": "code",
   "execution_count": 129,
   "metadata": {},
   "outputs": [
    {
     "data": {
      "text/plain": [
       "2"
      ]
     },
     "execution_count": 129,
     "metadata": {},
     "output_type": "execute_result"
    }
   ],
   "source": [
    "p[1]"
   ]
  },
  {
   "cell_type": "code",
   "execution_count": null,
   "metadata": {},
   "outputs": [],
   "source": []
  }
 ],
 "metadata": {
  "kernelspec": {
   "display_name": "Python 3",
   "language": "python",
   "name": "python3"
  },
  "language_info": {
   "codemirror_mode": {
    "name": "ipython",
    "version": 3
   },
   "file_extension": ".py",
   "mimetype": "text/x-python",
   "name": "python",
   "nbconvert_exporter": "python",
   "pygments_lexer": "ipython3",
   "version": "3.7.6"
  }
 },
 "nbformat": 4,
 "nbformat_minor": 2
}
