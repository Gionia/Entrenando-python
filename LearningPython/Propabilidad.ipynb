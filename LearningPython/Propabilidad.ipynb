{
 "cells": [
  {
   "cell_type": "markdown",
   "metadata": {},
   "source": [
    "# Clasificación o Diagnósticos"
   ]
  },
  {
   "cell_type": "markdown",
   "metadata": {},
   "source": [
    "$T$: el test da positivo\n",
    "$M$: el sujeto satisface la condición \\\n",
    "Falsos positivos $T\\cap{M^c}$\\\n",
    "Coeficiente de falsos positivos $P(T|M^c)$\n",
    "Falsos negativos $T^c\\cap{M}$: el test es negativo, pero la condición si que da \n",
    "Coeficiente de falsos negativos: $P(T^c|M)$\n"
   ]
  },
  {
   "cell_type": "markdown",
   "metadata": {},
   "source": [
    "## Uso de itertools para encontrar permutaciones y combinaciones"
   ]
  },
  {
   "cell_type": "code",
   "execution_count": 2,
   "metadata": {},
   "outputs": [
    {
     "data": {
      "text/plain": [
       "30240"
      ]
     },
     "execution_count": 2,
     "metadata": {},
     "output_type": "execute_result"
    }
   ],
   "source": [
    "import itertools as it\n",
    "a=it.permutations(range(10),5)\n",
    "#En si se muestran todo el espacio muestral, asi que lo convertimos en una lista\n",
    "b=list(a)\n",
    "len(b)"
   ]
  },
  {
   "cell_type": "markdown",
   "metadata": {},
   "source": [
    "## Tarea\n",
    "1. **Dos sucesos A y B disjuntos, ¿son necesariamente independientes?**\n",
    "\n",
    "    Respuesta:\n",
    "    Si dos sucesos son disjuntos entonces tenemos que $P(A\\cap B)=P(A)+P(B)$ si y solo si \n",
    "    \n",
    "    $P(A\\cup B)=0$\n",
    "   \n",
    "    Tambien sabemos que dos sucesos son independientes si y solo si para $P(A),P(B) >0$ se cumple\n",
    "    \n",
    "    $P(A)P(B)=P(A\\cap B)$\n",
    "    \n",
    "    Entonces si dos sucesos son disjuntos y a la vez son independientes se debería cumplir\n",
    "    \n",
    "    $P(A\\cup B)=P(A)P(B)=0$\n",
    "    \n",
    "    Pero para que se cumpla esto $P(A)$ o $P(B)$ deben ser 0, lo cual contradice nuestra definicion de independencia.\n",
    "\n",
    "Entonces concluimos que dos sucesos $P(A)$ y $P(B)$ disjuntos no pueden ser independientes."
   ]
  },
  {
   "cell_type": "markdown",
   "metadata": {},
   "source": [
    "2. **Dos sucesos A y B independientes, ¿son necesariamente disjuntos?**\n",
    "\n",
    "Partiendo de el enunciado anterior dedujimos que $P(A)P(B)\\neq0$\n",
    "y para que sean disjuntos esto debe ser cero, y si no lo es entonces no pueden ser disjuntos.\n",
    "Concluimos que A y B no son necesariamente disjuntos"
   ]
  },
  {
   "cell_type": "markdown",
   "metadata": {},
   "source": [
    "3. **∅ y un suceso cualquiera A, ¿son necesariamente independientes?**\n",
    "\n",
    "Sabemos que $P(\\emptyset)=0$ entonces $P(\\emptyset)P(A)=0$ y concluimos que si son independientes no deben ser cero, por lo tanto ∅ y un suceso cualquiera A no son necesariamente independientes.\n"
   ]
  },
  {
   "cell_type": "markdown",
   "metadata": {},
   "source": [
    "4. **Ω y un suceso cualquiera A, ¿son necesariamente independientes?**\n",
    "\n",
    "Debemos demostrar que \n",
    "\n",
    "$P(A)+P(\\Omega)-P(A\\cup \\Omega)=P(A)P(\\Omega)$\n",
    "\n",
    "Analizamos primero el lado derecho de la ecuación, sabemos que $P(\\Omega)=1$ entonces:\n",
    "\n",
    "$P(A)P(\\Omega)=P(A)$ `(1)`\n",
    "\n",
    "Ahora analizamos los terminos del lado izquierdo de la ecuación\n",
    "\n",
    "$P(A)+P(\\Omega)-P(A\\cup \\Omega)$\n",
    "\n",
    "Analizando $P(A\\cup \\Omega)$ y teniendo en cuenta que $A\\cup \\Omega=\\Omega$\n",
    "\n",
    "tenemos que $P(A\\cup \\Omega)=P(\\Omega)$ entonces\n",
    "\n",
    "$P(A)+P(\\Omega)-P(A\\cup \\Omega)=P(A)+P(\\Omega)-P(\\Omega)=P(A)$ `(2)`\n",
    "\n",
    "Así de `(1)` y `(2)` tenemos que Ω y un suceso cualquiera A son necesariamente independientes.\n",
    "\n",
    "\n",
    "\n"
   ]
  },
  {
   "cell_type": "markdown",
   "metadata": {},
   "source": [
    "5. **¿Qué condiciones se tienen que dar para que un suceso A sea independiente de si mismo?**\n",
    "\n",
    "El suceso A tendria que ser el suceso $\\Omega$ "
   ]
  },
  {
   "cell_type": "markdown",
   "metadata": {},
   "source": [
    "6. Una moneda no trucada se lanza al aire 2 veces Consideremos los siguientes sucesos:\n",
    "\n",
    "• A: Sale una cara en la primera tirada.\n",
    "\n",
    "• B: Sale una cara en la segunda tirada.\n",
    "\n",
    "¿Son los sucesos A y B independientes?\n",
    "\n",
    "Si son independientes\n",
    "\n",
    "$P(A)P(B)=\\frac{1}{2}*\\frac{1}{2}=\\frac{1}{4}$\n",
    "\n",
    "Ahora\n",
    "\n",
    "Revisando los sucesos elementales del conjunto\n",
    "\n",
    "$\\Omega=\\{(cara,cara),(cara,cruz),(cruz,cara),(cruz,cruz)\\}$\n",
    "\n",
    "$P(A\\cap B)=\\frac{1}{4}$"
   ]
  },
  {
   "cell_type": "markdown",
   "metadata": {},
   "source": [
    "7. **Una urna contiene 4 bolas numerades con los números 1, 2, 3 y 4, respectivamente. Se extraen dos bolas sin reposición. Sea A el suceso que la primera bola extraida tenga un 1 marcado y sea B el suceso que la segunda bola extraida tenga un 1 marcado.**\n",
    "\n",
    "• **¿Se puede decir que A y B son independientes?**\n",
    "\n",
    "El experiemento es dependiente\n",
    "\n",
    "• **¿Y si el experimento fuera sin reposición?**\n",
    "\n",
    "Si el experimento es sin reposicion entonces es independiente\n",
    "\n"
   ]
  },
  {
   "cell_type": "markdown",
   "metadata": {},
   "source": [
    "8. **Sea Ω un espacio muestral y A, B, C tres sucesos. Probad que**\n",
    "\n",
    " **Si A y B son independientes, también lo son A y B^c**\n",
    " \n",
    " Partimos sabiendo que se cumple lo siguiente:\n",
    " \n",
    " $P(A\\cap B)=P(A)P(B)$\n",
    " \n",
    " Nuestrsa hipótesis será: $P(A\\cap B^c)=P(A)P(B^c)$\n",
    " \n",
    "$P(A\\cap B^c)=P(A)P(B^c|A)=[1-P(B|A)]P(A)$\n",
    "\n",
    "$P(A\\cap B^c)=[1-\\frac{P(B\\cap A)}{P(A)}]P(A)$\n",
    "\n",
    "Observamos que aparece un termino en el numerador de la fracción que es nuestra definición y entonces:\n",
    "\n",
    "$P(A\\cap B^c)=[1-\\frac{P(B)P(A)}{P(A)}]P(A)=[1-P(B)]P(A)$\n",
    "\n",
    "Aplicando propiedades conmutativs y reordenando tenemos que:\n",
    "\n",
    "$P(A\\cap B^c)=P(A)P(B^c)$ \n",
    "\n",
    "\n",
    " **Si A,B,C son independientes, también lo son A,B y C^c**\n",
    " \n",
    " Definimos que:\n",
    " $P(A\\cap B\\cap C)=P(A)P(B)P(C)$\n",
    " \n",
    " Y demostraremos:\n",
    " \n",
    " $P(A\\cap B\\cap C^c)=P(A)P(B)P(C^c)$\n",
    " \n",
    " $P(A\\cap B\\cap C^c)=P(A)P(B|A)P(C^c|B\\cap A)$\n",
    " \n",
    " sabemos que \n",
    " \n",
    " $P(B\\cap A)=P(A)P(B)$\n",
    " \n",
    "  $P(A\\cap B\\cap C^c)=P(A)P(B)P(C^c|B\\cap A)$\n",
    "  \n",
    "  $P(A\\cap B\\cap C^c)=P(A)P(B)[1-\\frac{P(C|B\\cap A)}{P(A\\cap B)}]$\n",
    "  \n",
    "  $P(A\\cap B\\cap C^c)=P(A)P(B)[1-\\frac{P(C)P(B)P(A)}{P(A)P(B)}]$\n",
    "  \n",
    "  $P(A\\cap B\\cap C^c)=P(A)P(B)[1-P(C)]$\n",
    "  \n",
    "  Así obtenemos\n",
    "  \n",
    "  $P(A\\cap B\\cap C^c)=P(A)P(B)P(C^c)$\n",
    "  \n",
    " **¿Es cierto que si A,B,C son independientes, también lo son A,B^c y C^c? ¿Y A^c, B^c y C^c? En caso de que la respuesta sea negativa, da un contraejemplo donde la propiedad falle.**\n",
    " \n",
    "  1. Definimos que:\n",
    " $P(A\\cap B\\cap C)=P(A)P(B)P(C)$\n",
    " \n",
    " Y demostraremos:\n",
    " \n",
    " $P(A\\cap B^c\\cap C^c)=P(A)P(B^c)P(C^c)$\n",
    " \n",
    " $P(A\\cap B^c\\cap C^c)=P(A)P(B^c|A)P(C^c|B^c\\cap A)$\n",
    " \n",
    " sabemos que \n",
    " \n",
    " $P(B\\cap A)=P(A)P(B)$\n",
    " \n",
    " $P(A\\cap B\\cap C^c)=P(A)P(B)P(C^c)$\n",
    " \n",
    " asi que \n",
    " \n",
    " $P(A\\cap B^c\\cap C^c)=P(A)[1-P(B|A)]P(C^c|B^c\\cap A)$\n",
    " \n",
    " $P(A\\cap B^c\\cap C^c)=P(A)[1-P(B)]P(C^c|B^c\\cap A)$\n",
    " \n",
    " $P(A\\cap B^c\\cap C^c)=P(A)P(B^c)P(C^c|B^c\\cap A)$\n",
    " \n",
    " $P(A\\cap B^c\\cap C^c)=P(A)P(B^c)[1-P(C|B^c\\cap A)]$\n",
    " \n",
    " $P(A\\cap B^c\\cap C^c)=P(A)P(B^c)[1-\\frac{P(C\\cap B^c\\cap A)}{P(B^c\\cap A)}]$\n",
    " \n",
    " Apĺicamos las igualdades aprendidas como $P(A\\cap B\\cap C^c)=P(A)P(B)P(C^c)$\n",
    " \n",
    " $P(A\\cap B^c\\cap C^c)=P(A)P(B^c)[1-\\frac{P(C)P(B^c)P(A)}{P(B^c)P(A)}]$\n",
    " \n",
    " $P(A\\cap B^c\\cap C^c)=P(A)P(B^c)[1-P(C)]$\n",
    " \n",
    " Obteniendo así\n",
    " \n",
    "  $P(A\\cap B^c\\cap C^c)=P(A)P(B^c)P(C^c)$\n",
    " \n",
    " \n",
    " 2. Para  A^c, B^c y C^c se realiza exactamente el mismo procedimiento\n",
    " \n",
    " \n",
    " \n",
    " \n",
    "  \n",
    " "
   ]
  },
  {
   "cell_type": "markdown",
   "metadata": {},
   "source": [
    "%matplotlib inline"
   ]
  },
  {
   "cell_type": "markdown",
   "metadata": {
    "heading_collapsed": true
   },
   "source": [
    "# Variables aleatorias discretas notables"
   ]
  },
  {
   "cell_type": "code",
   "execution_count": 3,
   "metadata": {
    "hidden": true
   },
   "outputs": [],
   "source": [
    "from scipy.stats import binom\n",
    "from scipy.stats import norm\n",
    "import numpy as np\n",
    "import matplotlib.pyplot as plt\n",
    "from ipywidgets import interactive"
   ]
  },
  {
   "cell_type": "markdown",
   "metadata": {
    "hidden": true
   },
   "source": [
    " ## Cuando se quieran usar gráficos interactivos el gráfico debe crearse coomo un metodo o una función para asi poder llamarlo con la funcion `interact()`"
   ]
  },
  {
   "cell_type": "code",
   "execution_count": 4,
   "metadata": {
    "hidden": true
   },
   "outputs": [],
   "source": [
    "def plot_function(size = 100, bins = 10, loc=0, scale=1, color='red'):\n",
    "    data = norm.rvs(size=size, loc=loc, scale=scale)\n",
    "    binwidth = (max(data) - min(data))/ bins\n",
    "    plt.hist(data, \n",
    "             bins=np.arange(min(data), max(data) + binwidth, binwidth),\n",
    "             color=color)"
   ]
  },
  {
   "cell_type": "markdown",
   "metadata": {
    "heading_collapsed": true
   },
   "source": [
    "# **Para calcular la función de distribución**"
   ]
  },
  {
   "cell_type": "code",
   "execution_count": 5,
   "metadata": {
    "hidden": true
   },
   "outputs": [
    {
     "data": {
      "text/plain": [
       "1.0"
      ]
     },
     "execution_count": 5,
     "metadata": {},
     "output_type": "execute_result"
    }
   ],
   "source": [
    "binom.cdf(20,20,.25)"
   ]
  },
  {
   "cell_type": "markdown",
   "metadata": {
    "hidden": true
   },
   "source": [
    "**Para la función de probabilidad**"
   ]
  },
  {
   "cell_type": "code",
   "execution_count": 6,
   "metadata": {
    "hidden": true
   },
   "outputs": [
    {
     "data": {
      "text/plain": [
       "0.13389561519943521"
      ]
     },
     "execution_count": 6,
     "metadata": {},
     "output_type": "execute_result"
    }
   ],
   "source": [
    "binom.pmf(3,20,.25)"
   ]
  },
  {
   "cell_type": "markdown",
   "metadata": {
    "hidden": true
   },
   "source": [
    "**Si se quiere hacer una muestra aleatoria**"
   ]
  },
  {
   "cell_type": "code",
   "execution_count": 7,
   "metadata": {
    "hidden": true
   },
   "outputs": [
    {
     "data": {
      "text/plain": [
       "array([127, 132, 120, 146, 116, 109, 152, 119, 119, 116, 110, 134, 127,\n",
       "       129, 120, 128, 117, 138, 115, 112, 119, 133, 118, 117, 115, 119,\n",
       "       131, 110, 128, 135, 137, 131, 123, 113, 108, 131, 124, 124, 147,\n",
       "       131, 120, 132, 125, 110, 123, 110, 121, 117, 126, 140, 119, 121,\n",
       "       141, 130, 123, 129, 131, 124, 117, 123, 133, 133, 114, 107, 122,\n",
       "       115, 123, 120, 133, 131, 125, 111, 139, 114, 108, 128, 143, 125,\n",
       "       126, 114, 112, 120, 114, 152, 133, 134, 116, 115, 115, 125, 120,\n",
       "       121, 110, 108, 142, 127, 126, 139, 123, 106])"
      ]
     },
     "execution_count": 7,
     "metadata": {},
     "output_type": "execute_result"
    }
   ],
   "source": [
    "binom.rvs(n=500,p=.25,size=100)"
   ]
  },
  {
   "cell_type": "code",
   "execution_count": 21,
   "metadata": {
    "hidden": true
   },
   "outputs": [
    {
     "data": {
      "image/png": "[encoded data removed]",
      "text/plain": [
       "<Figure size 432x288 with 1 Axes>"
      ]
     },
     "metadata": {
      "needs_background": "light"
     },
     "output_type": "display_data"
    },
    {
     "name": "stdout",
     "output_type": "stream",
     "text": [
      "conjunto {1, 2, 3, 4, 5, 6, 7, 8}\n"
     ]
    }
   ],
   "source": [
    "numeros=binom.rvs(n=10,p=0.5,size=100)\n",
    "\n",
    "plt.hist(numeros,30)\n",
    "plt.show()\n",
    "print('conjunto',set(numeros))"
   ]
  },
  {
   "cell_type": "code",
   "execution_count": 13,
   "metadata": {
    "hidden": true
   },
   "outputs": [
    {
     "name": "stdout",
     "output_type": "stream",
     "text": [
      "E(x) = 5.0\n"
     ]
    }
   ],
   "source": [
    "print('E(x) = {m}'.format(m=binom.stats(n=10,p=0.5,moments='m')))"
   ]
  },
  {
   "cell_type": "markdown",
   "metadata": {
    "hidden": true
   },
   "source": [
    "moments : str, optional\n",
    "\n",
    "composed of letters [‘mvsk’] specifying which moments to compute where ‘m’ = mean, ‘v’ = variance, ‘s’ = (Fisher’s) skew and ‘k’ = (Fisher’s) kurtosis. Default is ‘mv’."
   ]
  },
  {
   "cell_type": "markdown",
   "metadata": {
    "heading_collapsed": true
   },
   "source": [
    "# distribución geometrica"
   ]
  },
  {
   "cell_type": "code",
   "execution_count": null,
   "metadata": {
    "hidden": true
   },
   "outputs": [],
   "source": []
  },
  {
   "cell_type": "code",
   "execution_count": 14,
   "metadata": {
    "hidden": true
   },
   "outputs": [],
   "source": [
    "from scipy.stats import geom\n",
    "import matplotlib.pyplot as plt\n",
    "import seaborn as sns"
   ]
  },
  {
   "cell_type": "code",
   "execution_count": 11,
   "metadata": {
    "hidden": true
   },
   "outputs": [
    {
     "data": {
      "text/plain": [
       "0.25"
      ]
     },
     "execution_count": 11,
     "metadata": {},
     "output_type": "execute_result"
    }
   ],
   "source": [
    "geom.pmf(0,p=0.25, loc=-1)"
   ]
  },
  {
   "cell_type": "code",
   "execution_count": 12,
   "metadata": {
    "hidden": true
   },
   "outputs": [
    {
     "data": {
      "text/plain": [
       "0.24999999999999997"
      ]
     },
     "execution_count": 12,
     "metadata": {},
     "output_type": "execute_result"
    }
   ],
   "source": [
    "geom.cdf(0,p=0.25,loc=-1)"
   ]
  },
  {
   "cell_type": "code",
   "execution_count": 16,
   "metadata": {
    "hidden": true
   },
   "outputs": [
    {
     "data": {
      "text/plain": [
       "(array([23.,  0.,  0.,  0., 18.,  0.,  0.,  0.,  0., 14.,  0.,  0.,  0.,\n",
       "         0.,  7.,  0.,  0.,  0.,  4.,  0.,  0.,  0.,  0.,  7.,  0.,  0.,\n",
       "         0.,  0.,  9.,  0.,  0.,  0.,  6.,  0.,  0.,  0.,  0.,  3.,  0.,\n",
       "         0.,  0.,  0.,  1.,  0.,  0.,  0.,  0.,  4.,  0.,  0.,  0.,  0.,\n",
       "         0.,  0.,  0.,  0.,  1.,  0.,  0.,  0.,  0.,  2.,  0.,  0.,  0.,\n",
       "         0.,  0.,  0.,  0.,  0.,  0.,  0.,  0.,  0.,  0.,  0.,  0.,  0.,\n",
       "         0.,  1.]),\n",
       " array([ 0.    ,  0.2125,  0.425 ,  0.6375,  0.85  ,  1.0625,  1.275 ,\n",
       "         1.4875,  1.7   ,  1.9125,  2.125 ,  2.3375,  2.55  ,  2.7625,\n",
       "         2.975 ,  3.1875,  3.4   ,  3.6125,  3.825 ,  4.0375,  4.25  ,\n",
       "         4.4625,  4.675 ,  4.8875,  5.1   ,  5.3125,  5.525 ,  5.7375,\n",
       "         5.95  ,  6.1625,  6.375 ,  6.5875,  6.8   ,  7.0125,  7.225 ,\n",
       "         7.4375,  7.65  ,  7.8625,  8.075 ,  8.2875,  8.5   ,  8.7125,\n",
       "         8.925 ,  9.1375,  9.35  ,  9.5625,  9.775 ,  9.9875, 10.2   ,\n",
       "        10.4125, 10.625 , 10.8375, 11.05  , 11.2625, 11.475 , 11.6875,\n",
       "        11.9   , 12.1125, 12.325 , 12.5375, 12.75  , 12.9625, 13.175 ,\n",
       "        13.3875, 13.6   , 13.8125, 14.025 , 14.2375, 14.45  , 14.6625,\n",
       "        14.875 , 15.0875, 15.3   , 15.5125, 15.725 , 15.9375, 16.15  ,\n",
       "        16.3625, 16.575 , 16.7875, 17.    ]),\n",
       " <a list of 80 Patch objects>)"
      ]
     },
     "execution_count": 16,
     "metadata": {},
     "output_type": "execute_result"
    },
    {
     "data": {
      "image/png": "[encoded data removed]",
      "text/plain": [
       "<Figure size 432x288 with 1 Axes>"
      ]
     },
     "metadata": {
      "needs_background": "light"
     },
     "output_type": "display_data"
    }
   ],
   "source": [
    "a=geom.rvs(size=100,p=0.25,loc=-1)\n",
    "plt.hist(a,80)"
   ]
  },
  {
   "cell_type": "code",
   "execution_count": 18,
   "metadata": {
    "hidden": true
   },
   "outputs": [
    {
     "data": {
      "image/png": "[encoded data removed]",
      "text/plain": [
       "<Figure size 432x288 with 1 Axes>"
      ]
     },
     "metadata": {
      "needs_background": "light"
     },
     "output_type": "display_data"
    }
   ],
   "source": [
    "sns.distplot(a)\n",
    "plt.show()"
   ]
  },
  {
   "cell_type": "markdown",
   "metadata": {},
   "source": [
    "# Distribución binomial negativa"
   ]
  },
  {
   "cell_type": "code",
   "execution_count": 12,
   "metadata": {},
   "outputs": [],
   "source": [
    "from scipy.stats import nbinom\n",
    "import seaborn as sns\n",
    "import matplotlib.pyplot as plt\n"
   ]
  },
  {
   "cell_type": "code",
   "execution_count": 15,
   "metadata": {},
   "outputs": [
    {
     "data": {
      "text/plain": [
       "0.038742048899999965"
      ]
     },
     "execution_count": 15,
     "metadata": {},
     "output_type": "execute_result"
    }
   ],
   "source": [
    "nbinom.pmf(k=8,n=2,p=0.1)"
   ]
  },
  {
   "cell_type": "code",
   "execution_count": 17,
   "metadata": {},
   "outputs": [
    {
     "data": {
      "text/plain": [
       "0.26390107090000003"
      ]
     },
     "execution_count": 17,
     "metadata": {},
     "output_type": "execute_result"
    }
   ],
   "source": [
    "nbinom.cdf(k=8,n=2,p=0.1) #k numero de fracasos, n=cuantsas puesrtas tiene que abrir"
   ]
  },
  {
   "cell_type": "code",
   "execution_count": 35,
   "metadata": {},
   "outputs": [
    {
     "data": {
      "text/plain": [
       "<matplotlib.axes._subplots.AxesSubplot at 0x7f6b5abf0390>"
      ]
     },
     "execution_count": 35,
     "metadata": {},
     "output_type": "execute_result"
    },
    {
     "data": {
      "image/png": "[encoded data removed]",
      "text/plain": [
       "<Figure size 432x288 with 1 Axes>"
      ]
     },
     "metadata": {
      "needs_background": "light"
     },
     "output_type": "display_data"
    }
   ],
   "source": [
    "negativa_binom=nbinom.rvs(n=2,p=0.1,size=20)\n",
    "sns.distplot(negativa_binom)\n",
    "#sns.distplot(nbinom.pmf(k=[x for x in range(222)], n=2,p=0.1))"
   ]
  },
  {
   "cell_type": "markdown",
   "metadata": {},
   "source": [
    "# Distribución de Poisson\n"
   ]
  },
  {
   "cell_type": "code",
   "execution_count": 37,
   "metadata": {},
   "outputs": [],
   "source": [
    "from scipy.stats import poisson"
   ]
  },
  {
   "cell_type": "code",
   "execution_count": 40,
   "metadata": {},
   "outputs": [
    {
     "data": {
      "text/plain": [
       "0.0006853738999347143"
      ]
     },
     "execution_count": 40,
     "metadata": {},
     "output_type": "execute_result"
    }
   ],
   "source": [
    "poisson.pmf(35,mu=(20) #lamba(mu) es el numero de sucesos por unidad de tiempo"
   ]
  },
  {
   "cell_type": "code",
   "execution_count": 42,
   "metadata": {},
   "outputs": [
    {
     "data": {
      "text/plain": [
       "0.38142194944715513"
      ]
     },
     "execution_count": 42,
     "metadata": {},
     "output_type": "execute_result"
    }
   ],
   "source": [
    "poisson.cdf(18,mu=20)"
   ]
  },
  {
   "cell_type": "code",
   "execution_count": 18,
   "metadata": {
    "slideshow": {
     "slide_type": "subslide"
    }
   },
   "outputs": [
    {
     "data": {
      "text/plain": [
       "(array(5.), array(5.))"
      ]
     },
     "execution_count": 18,
     "metadata": {},
     "output_type": "execute_result"
    }
   ],
   "source": [
    "poisson.stats(mu=5,moments='mv')"
   ]
  },
  {
   "cell_type": "markdown",
   "metadata": {
    "slideshow": {
     "slide_type": "subslide"
    }
   },
   "source": [
    "# Distribución hipergeometrica"
   ]
  },
  {
   "cell_type": "code",
   "execution_count": 1,
   "metadata": {
    "slideshow": {
     "slide_type": "subslide"
    }
   },
   "outputs": [],
   "source": [
    "from scipy.stats import hypergeom"
   ]
  },
  {
   "cell_type": "code",
   "execution_count": 2,
   "metadata": {
    "slideshow": {
     "slide_type": "subslide"
    }
   },
   "outputs": [
    {
     "data": {
      "text/plain": [
       "0.29347826086956585"
      ]
     },
     "execution_count": 2,
     "metadata": {},
     "output_type": "execute_result"
    }
   ],
   "source": [
    "hypergeom.pmf(1,M=15+10,n=15,N=3)\n",
    "#1 hace referencia a que se saca una bola\n",
    "#M es el total de bolas\n",
    "#n son el numero de bolas de las cuales se extrae, supongamos que se saca una bola blanca de 15\n",
    "#N es el total de extracciones que se realizaran"
   ]
  },
  {
   "cell_type": "markdown",
   "metadata": {
    "slideshow": {
     "slide_type": "slide"
    }
   },
   "source": [
    "# Distribución uniforme"
   ]
  },
  {
   "cell_type": "markdown",
   "metadata": {
    "slideshow": {
     "slide_type": "subslide"
    }
   },
   "source": [
    "U(0,1)-->U(w,z)\n",
    "Python calcula una U(0,1) asi que debes de ingresar los parametros scale y loc\n",
    "U(w,z)=U(loc,scale+loc)"
   ]
  },
  {
   "cell_type": "code",
   "execution_count": 1,
   "metadata": {
    "slideshow": {
     "slide_type": "subslide"
    }
   },
   "outputs": [],
   "source": [
    "from scipy.stats import uniform"
   ]
  },
  {
   "cell_type": "code",
   "execution_count": 4,
   "metadata": {
    "slideshow": {
     "slide_type": "subslide"
    }
   },
   "outputs": [
    {
     "data": {
      "text/plain": [
       "0.5"
      ]
     },
     "execution_count": 4,
     "metadata": {},
     "output_type": "execute_result"
    }
   ],
   "source": [
    "uniform.pdf(0.5,scale=2,loc=-1) #U(-1,1)"
   ]
  },
  {
   "cell_type": "code",
   "execution_count": 13,
   "metadata": {
    "slideshow": {
     "slide_type": "subslide"
    }
   },
   "outputs": [
    {
     "data": {
      "text/plain": [
       "0.75"
      ]
     },
     "execution_count": 13,
     "metadata": {},
     "output_type": "execute_result"
    }
   ],
   "source": [
    "uniform.cdf(0.5,scale=2,loc=-1)"
   ]
  },
  {
   "cell_type": "code",
   "execution_count": 11,
   "metadata": {
    "slideshow": {
     "slide_type": "subslide"
    }
   },
   "outputs": [
    {
     "data": {
      "text/plain": [
       "0.5"
      ]
     },
     "execution_count": 11,
     "metadata": {},
     "output_type": "execute_result"
    }
   ],
   "source": [
    "uniform.ppf(0.75,scale=2,loc=-1)"
   ]
  },
  {
   "cell_type": "code",
   "execution_count": 21,
   "metadata": {
    "slideshow": {
     "slide_type": "subslide"
    }
   },
   "outputs": [
    {
     "data": {
      "text/plain": [
       "<matplotlib.axes._subplots.AxesSubplot at 0x7f6b5b20eb50>"
      ]
     },
     "execution_count": 21,
     "metadata": {},
     "output_type": "execute_result"
    },
    {
     "data": {
      "image/png": "[encoded data removed]",
      "text/plain": [
       "<Figure size 432x288 with 1 Axes>"
      ]
     },
     "metadata": {
      "needs_background": "light"
     },
     "output_type": "display_data"
    }
   ],
   "source": [
    "sns.distplot([x for x in range(15)])"
   ]
  },
  {
   "cell_type": "code",
   "execution_count": 23,
   "metadata": {
    "slideshow": {
     "slide_type": "subslide"
    }
   },
   "outputs": [
    {
     "data": {
      "text/plain": [
       "[<matplotlib.lines.Line2D at 0x7f6b5b13cbd0>]"
      ]
     },
     "execution_count": 23,
     "metadata": {},
     "output_type": "execute_result"
    },
    {
     "data": {
      "image/png": "[encoded data removed]",
      "text/plain": [
       "<Figure size 432x288 with 1 Axes>"
      ]
     },
     "metadata": {
      "needs_background": "light"
     },
     "output_type": "display_data"
    }
   ],
   "source": [
    "plt.plot([x for x in range(15)])"
   ]
  },
  {
   "cell_type": "markdown",
   "metadata": {
    "slideshow": {
     "slide_type": "slide"
    }
   },
   "source": [
    "# Distribución exponencial"
   ]
  },
  {
   "cell_type": "code",
   "execution_count": 144,
   "metadata": {
    "slideshow": {
     "slide_type": "subslide"
    }
   },
   "outputs": [],
   "source": [
    "from scipy.stats import expon,norm\n",
    "import seaborn as sbs\n",
    "import matplotlib.pyplot as plt"
   ]
  },
  {
   "cell_type": "code",
   "execution_count": 145,
   "metadata": {
    "slideshow": {
     "slide_type": "subslide"
    }
   },
   "outputs": [
    {
     "data": {
      "text/plain": [
       "0.0074362565299990755"
      ]
     },
     "execution_count": 145,
     "metadata": {},
     "output_type": "execute_result"
    }
   ],
   "source": [
    "expon.pdf(2,scale=1./3) # scale es la esperanza que es 1/lambda"
   ]
  },
  {
   "cell_type": "code",
   "execution_count": 192,
   "metadata": {
    "slideshow": {
     "slide_type": "subslide"
    }
   },
   "outputs": [
    {
     "data": {
      "text/plain": [
       "array([3.        , 2.9113366 , 2.8252936 , 2.74179356, 2.66076131,\n",
       "       2.58212393, 2.50581063, 2.43175274, 2.35988358, 2.29013848,\n",
       "       2.22245466, 2.1567712 , 2.09302898, 2.03117062, 1.97114046,\n",
       "       1.91288445, 1.85635018, 1.80148674, 1.74824476, 1.69657632,\n",
       "       1.64643491, 1.5977754 , 1.550554  , 1.50472821, 1.46025677,\n",
       "       1.41709966, 1.37521803, 1.3345742 , 1.29513157, 1.25685465,\n",
       "       1.21970898, 1.18366113, 1.14867866, 1.11473007, 1.08178482,\n",
       "       1.04981325, 1.01878658, 0.98867688, 0.95945707, 0.93110082,\n",
       "       0.90358264, 0.87687773, 0.85096208, 0.82581235, 0.80140591,\n",
       "       0.77772078, 0.75473566, 0.73242985, 0.71078328, 0.68977646,\n",
       "       0.66939048, 0.649607  , 0.63040821, 0.61177684, 0.5936961 ,\n",
       "       0.57614973, 0.55912193, 0.54259738, 0.5265612 , 0.51099897,\n",
       "       0.49589666, 0.4812407 , 0.46701789, 0.45321543, 0.43982089,\n",
       "       0.42682221, 0.41420771, 0.40196602, 0.39008613, 0.37855735,\n",
       "       0.36736928, 0.35651188, 0.34597536, 0.33575025, 0.32582733,\n",
       "       0.31619767, 0.30685262, 0.29778375, 0.28898291, 0.28044218,\n",
       "       0.27215386, 0.2641105 , 0.25630485, 0.2487299 , 0.24137882,\n",
       "       0.234245  , 0.22732201, 0.22060363, 0.21408381, 0.20775668,\n",
       "       0.20161654, 0.19565787, 0.18987531, 0.18426364, 0.17881783,\n",
       "       0.17353296, 0.16840429, 0.16342719, 0.15859719, 0.15390993])"
      ]
     },
     "execution_count": 192,
     "metadata": {},
     "output_type": "execute_result"
    }
   ],
   "source": [
    "ex=expon.pdf([x/100 for x in range(100)],scale=1./3)\n",
    "ex"
   ]
  },
  {
   "cell_type": "code",
   "execution_count": 197,
   "metadata": {
    "slideshow": {
     "slide_type": "subslide"
    }
   },
   "outputs": [
    {
     "data": {
      "text/plain": [
       "[Text(0.5, 0, 'lolo')]"
      ]
     },
     "execution_count": 197,
     "metadata": {},
     "output_type": "execute_result"
    },
    {
     "data": {
      "image/png": "[encoded data removed]",
      "text/plain": [
       "<Figure size 1440x576 with 2 Axes>"
      ]
     },
     "metadata": {
      "needs_background": "light"
     },
     "output_type": "display_data"
    }
   ],
   "source": [
    "num=25\n",
    "f, axes = plt.subplots(1, 2, figsize=(20, 8), sharex=True)  #sharex alinea los ejes\n",
    "sbs.distplot(ex,kde=True,hist=True,hist_kws={'edgecolor':'black'},\n",
    "             color='blue',ax=axes[0], bins=num)\n",
    "axes[0].set_xlabel('tiempo',color='white',size=20)\n",
    "\n",
    "sbs.distplot( ex, kde = True, hist_kws = { 'edgecolor': 'black' },\n",
    "             color = 'green', ax=axes[1])\n",
    "axes[1].set(xlabel='lolo')"
   ]
  },
  {
   "cell_type": "markdown",
   "metadata": {
    "slideshow": {
     "slide_type": "slide"
    }
   },
   "source": [
    "# Exportar https:"
   ]
  },
  {
   "cell_type": "code",
   "execution_count": 106,
   "metadata": {
    "slideshow": {
     "slide_type": "subslide"
    }
   },
   "outputs": [],
   "source": [
    "#from IPython.display import IFrame\n",
    "#IFrame('https://arxiv.org/pdf/1406.2661.pdf', width=800, height=450)"
   ]
  },
  {
   "cell_type": "code",
   "execution_count": 123,
   "metadata": {
    "slideshow": {
     "slide_type": "subslide"
    }
   },
   "outputs": [],
   "source": [
    "#Note that http urls will not be displayed. Only https are allowed inside the Iframe\n",
    "#from IPython.display import IFrame\n",
    "#IFrame('https://en.wikipedia.org/wiki/', width=800, height=450)"
   ]
  },
  {
   "cell_type": "code",
   "execution_count": 121,
   "metadata": {
    "slideshow": {
     "slide_type": "subslide"
    }
   },
   "outputs": [],
   "source": [
    "from IPython.display import YouTubeVideo\n",
    "#YouTubeVideo('mJeNghZXtMo', width=800, height=300)"
   ]
  },
  {
   "cell_type": "markdown",
   "metadata": {
    "slideshow": {
     "slide_type": "subslide"
    }
   },
   "source": [
    "# Distribucion geometrica"
   ]
  },
  {
   "cell_type": "code",
   "execution_count": 198,
   "metadata": {},
   "outputs": [],
   "source": [
    "from scipy.stats import norm"
   ]
  },
  {
   "cell_type": "code",
   "execution_count": 295,
   "metadata": {},
   "outputs": [
    {
     "name": "stdout",
     "output_type": "stream",
     "text": [
      "[-3.00000000e+00 -2.90000000e+00 -2.80000000e+00 -2.70000000e+00\n",
      " -2.60000000e+00 -2.50000000e+00 -2.40000000e+00 -2.30000000e+00\n",
      " -2.20000000e+00 -2.10000000e+00 -2.00000000e+00 -1.90000000e+00\n",
      " -1.80000000e+00 -1.70000000e+00 -1.60000000e+00 -1.50000000e+00\n",
      " -1.40000000e+00 -1.30000000e+00 -1.20000000e+00 -1.10000000e+00\n",
      " -1.00000000e+00 -9.00000000e-01 -8.00000000e-01 -7.00000000e-01\n",
      " -6.00000000e-01 -5.00000000e-01 -4.00000000e-01 -3.00000000e-01\n",
      " -2.00000000e-01 -1.00000000e-01  2.66453526e-15  1.00000000e-01\n",
      "  2.00000000e-01  3.00000000e-01  4.00000000e-01  5.00000000e-01\n",
      "  6.00000000e-01  7.00000000e-01  8.00000000e-01  9.00000000e-01\n",
      "  1.00000000e+00  1.10000000e+00  1.20000000e+00  1.30000000e+00\n",
      "  1.40000000e+00  1.50000000e+00  1.60000000e+00  1.70000000e+00\n",
      "  1.80000000e+00  1.90000000e+00  2.00000000e+00  2.10000000e+00\n",
      "  2.20000000e+00  2.30000000e+00  2.40000000e+00  2.50000000e+00\n",
      "  2.60000000e+00  2.70000000e+00  2.80000000e+00  2.90000000e+00]\n",
      "[0.00443185 0.00595253 0.00791545 0.01042093 0.01358297 0.0175283\n",
      " 0.02239453 0.02832704 0.03547459 0.0439836  0.05399097 0.06561581\n",
      " 0.07895016 0.09404908 0.11092083 0.1295176  0.14972747 0.17136859\n",
      " 0.19418605 0.21785218 0.24197072 0.26608525 0.28969155 0.31225393\n",
      " 0.3332246  0.35206533 0.36827014 0.38138782 0.39104269 0.39695255\n",
      " 0.39894228 0.39695255 0.39104269 0.38138782 0.36827014 0.35206533\n",
      " 0.3332246  0.31225393 0.28969155 0.26608525 0.24197072 0.21785218\n",
      " 0.19418605 0.17136859 0.14972747 0.1295176  0.11092083 0.09404908\n",
      " 0.07895016 0.06561581 0.05399097 0.0439836  0.03547459 0.02832704\n",
      " 0.02239453 0.0175283  0.01358297 0.01042093 0.00791545 0.00595253]\n"
     ]
    }
   ],
   "source": [
    "x=np.arange(-3,3,.1)\n",
    "valores=norm.pdf(x,loc=0, scale=1)#loc es la media y scalela varianza\n",
    "valores\n",
    "randomv=norm.rvs(size=200, loc = 0, scale= 1)\n",
    "print(x)\n",
    "print(valores)"
   ]
  },
  {
   "cell_type": "code",
   "execution_count": 308,
   "metadata": {},
   "outputs": [
    {
     "ename": "AttributeError",
     "evalue": "'Line2D' object has no property 'l'",
     "output_type": "error",
     "traceback": [
      "\u001b[0;31m---------------------------------------------------------------------------\u001b[0m",
      "\u001b[0;31mAttributeError\u001b[0m                            Traceback (most recent call last)",
      "\u001b[0;32m<ipython-input-308-bfe2f33f1cdf>\u001b[0m in \u001b[0;36m<module>\u001b[0;34m\u001b[0m\n\u001b[1;32m      4\u001b[0m \u001b[0maxes\u001b[0m\u001b[0;34m[\u001b[0m\u001b[0;36m0\u001b[0m\u001b[0;34m]\u001b[0m\u001b[0;34m.\u001b[0m\u001b[0mplot\u001b[0m\u001b[0;34m(\u001b[0m\u001b[0mx\u001b[0m\u001b[0;34m,\u001b[0m\u001b[0mvalores\u001b[0m\u001b[0;34m)\u001b[0m\u001b[0;34m\u001b[0m\u001b[0;34m\u001b[0m\u001b[0m\n\u001b[1;32m      5\u001b[0m \u001b[0maxes\u001b[0m\u001b[0;34m[\u001b[0m\u001b[0;36m0\u001b[0m\u001b[0;34m]\u001b[0m\u001b[0;34m.\u001b[0m\u001b[0mvlines\u001b[0m\u001b[0;34m(\u001b[0m\u001b[0mx\u001b[0m\u001b[0;34m,\u001b[0m\u001b[0;34m[\u001b[0m\u001b[0;36m0\u001b[0m\u001b[0;34m]\u001b[0m\u001b[0;34m,\u001b[0m\u001b[0mvalores\u001b[0m\u001b[0;34m,\u001b[0m\u001b[0mcolor\u001b[0m\u001b[0;34m=\u001b[0m\u001b[0;34m'lightsteelblue'\u001b[0m\u001b[0;34m,\u001b[0m\u001b[0mlw\u001b[0m\u001b[0;34m=\u001b[0m\u001b[0;36m10\u001b[0m\u001b[0;34m)\u001b[0m\u001b[0;34m\u001b[0m\u001b[0;34m\u001b[0m\u001b[0m\n\u001b[0;32m----> 6\u001b[0;31m \u001b[0maxes\u001b[0m\u001b[0;34m[\u001b[0m\u001b[0;36m0\u001b[0m\u001b[0;34m]\u001b[0m\u001b[0;34m.\u001b[0m\u001b[0mplot\u001b[0m\u001b[0;34m(\u001b[0m\u001b[0mx\u001b[0m\u001b[0;34m,\u001b[0m\u001b[0mvalores\u001b[0m\u001b[0;34m,\u001b[0m\u001b[0ml\u001b[0m\u001b[0;34m=\u001b[0m\u001b[0;34m'a'\u001b[0m\u001b[0;34m)\u001b[0m\u001b[0;34m\u001b[0m\u001b[0;34m\u001b[0m\u001b[0m\n\u001b[0m\u001b[1;32m      7\u001b[0m \u001b[0maxes\u001b[0m\u001b[0;34m[\u001b[0m\u001b[0;36m0\u001b[0m\u001b[0;34m]\u001b[0m\u001b[0;34m.\u001b[0m\u001b[0mtick_params\u001b[0m\u001b[0;34m(\u001b[0m\u001b[0mlabelsize\u001b[0m\u001b[0;34m=\u001b[0m\u001b[0;36m40\u001b[0m\u001b[0;34m,\u001b[0m \u001b[0maxis\u001b[0m\u001b[0;34m=\u001b[0m\u001b[0;34m'both'\u001b[0m\u001b[0;34m)\u001b[0m\u001b[0;34m\u001b[0m\u001b[0;34m\u001b[0m\u001b[0m\n\u001b[1;32m      8\u001b[0m \u001b[0;34m\u001b[0m\u001b[0m\n",
      "\u001b[0;32m~/anaconda3/lib/python3.7/site-packages/matplotlib/axes/_axes.py\u001b[0m in \u001b[0;36mplot\u001b[0;34m(self, scalex, scaley, data, *args, **kwargs)\u001b[0m\n\u001b[1;32m   1663\u001b[0m         \"\"\"\n\u001b[1;32m   1664\u001b[0m         \u001b[0mkwargs\u001b[0m \u001b[0;34m=\u001b[0m \u001b[0mcbook\u001b[0m\u001b[0;34m.\u001b[0m\u001b[0mnormalize_kwargs\u001b[0m\u001b[0;34m(\u001b[0m\u001b[0mkwargs\u001b[0m\u001b[0;34m,\u001b[0m \u001b[0mmlines\u001b[0m\u001b[0;34m.\u001b[0m\u001b[0mLine2D\u001b[0m\u001b[0;34m.\u001b[0m\u001b[0m_alias_map\u001b[0m\u001b[0;34m)\u001b[0m\u001b[0;34m\u001b[0m\u001b[0;34m\u001b[0m\u001b[0m\n\u001b[0;32m-> 1665\u001b[0;31m         \u001b[0mlines\u001b[0m \u001b[0;34m=\u001b[0m \u001b[0;34m[\u001b[0m\u001b[0;34m*\u001b[0m\u001b[0mself\u001b[0m\u001b[0;34m.\u001b[0m\u001b[0m_get_lines\u001b[0m\u001b[0;34m(\u001b[0m\u001b[0;34m*\u001b[0m\u001b[0margs\u001b[0m\u001b[0;34m,\u001b[0m \u001b[0mdata\u001b[0m\u001b[0;34m=\u001b[0m\u001b[0mdata\u001b[0m\u001b[0;34m,\u001b[0m \u001b[0;34m**\u001b[0m\u001b[0mkwargs\u001b[0m\u001b[0;34m)\u001b[0m\u001b[0;34m]\u001b[0m\u001b[0;34m\u001b[0m\u001b[0;34m\u001b[0m\u001b[0m\n\u001b[0m\u001b[1;32m   1666\u001b[0m         \u001b[0;32mfor\u001b[0m \u001b[0mline\u001b[0m \u001b[0;32min\u001b[0m \u001b[0mlines\u001b[0m\u001b[0;34m:\u001b[0m\u001b[0;34m\u001b[0m\u001b[0;34m\u001b[0m\u001b[0m\n\u001b[1;32m   1667\u001b[0m             \u001b[0mself\u001b[0m\u001b[0;34m.\u001b[0m\u001b[0madd_line\u001b[0m\u001b[0;34m(\u001b[0m\u001b[0mline\u001b[0m\u001b[0;34m)\u001b[0m\u001b[0;34m\u001b[0m\u001b[0;34m\u001b[0m\u001b[0m\n",
      "\u001b[0;32m~/anaconda3/lib/python3.7/site-packages/matplotlib/axes/_base.py\u001b[0m in \u001b[0;36m__call__\u001b[0;34m(self, *args, **kwargs)\u001b[0m\n\u001b[1;32m    223\u001b[0m                 \u001b[0mthis\u001b[0m \u001b[0;34m+=\u001b[0m \u001b[0margs\u001b[0m\u001b[0;34m[\u001b[0m\u001b[0;36m0\u001b[0m\u001b[0;34m]\u001b[0m\u001b[0;34m,\u001b[0m\u001b[0;34m\u001b[0m\u001b[0;34m\u001b[0m\u001b[0m\n\u001b[1;32m    224\u001b[0m                 \u001b[0margs\u001b[0m \u001b[0;34m=\u001b[0m \u001b[0margs\u001b[0m\u001b[0;34m[\u001b[0m\u001b[0;36m1\u001b[0m\u001b[0;34m:\u001b[0m\u001b[0;34m]\u001b[0m\u001b[0;34m\u001b[0m\u001b[0;34m\u001b[0m\u001b[0m\n\u001b[0;32m--> 225\u001b[0;31m             \u001b[0;32myield\u001b[0m \u001b[0;32mfrom\u001b[0m \u001b[0mself\u001b[0m\u001b[0;34m.\u001b[0m\u001b[0m_plot_args\u001b[0m\u001b[0;34m(\u001b[0m\u001b[0mthis\u001b[0m\u001b[0;34m,\u001b[0m \u001b[0mkwargs\u001b[0m\u001b[0;34m)\u001b[0m\u001b[0;34m\u001b[0m\u001b[0;34m\u001b[0m\u001b[0m\n\u001b[0m\u001b[1;32m    226\u001b[0m \u001b[0;34m\u001b[0m\u001b[0m\n\u001b[1;32m    227\u001b[0m     \u001b[0;32mdef\u001b[0m \u001b[0mget_next_color\u001b[0m\u001b[0;34m(\u001b[0m\u001b[0mself\u001b[0m\u001b[0;34m)\u001b[0m\u001b[0;34m:\u001b[0m\u001b[0;34m\u001b[0m\u001b[0;34m\u001b[0m\u001b[0m\n",
      "\u001b[0;32m~/anaconda3/lib/python3.7/site-packages/matplotlib/axes/_base.py\u001b[0m in \u001b[0;36m_plot_args\u001b[0;34m(self, tup, kwargs)\u001b[0m\n\u001b[1;32m    403\u001b[0m                 \"non-matching shapes is deprecated.\")\n\u001b[1;32m    404\u001b[0m         \u001b[0;32mfor\u001b[0m \u001b[0mj\u001b[0m \u001b[0;32min\u001b[0m \u001b[0mrange\u001b[0m\u001b[0;34m(\u001b[0m\u001b[0mmax\u001b[0m\u001b[0;34m(\u001b[0m\u001b[0mncx\u001b[0m\u001b[0;34m,\u001b[0m \u001b[0mncy\u001b[0m\u001b[0;34m)\u001b[0m\u001b[0;34m)\u001b[0m\u001b[0;34m:\u001b[0m\u001b[0;34m\u001b[0m\u001b[0;34m\u001b[0m\u001b[0m\n\u001b[0;32m--> 405\u001b[0;31m             \u001b[0mseg\u001b[0m \u001b[0;34m=\u001b[0m \u001b[0mfunc\u001b[0m\u001b[0;34m(\u001b[0m\u001b[0mx\u001b[0m\u001b[0;34m[\u001b[0m\u001b[0;34m:\u001b[0m\u001b[0;34m,\u001b[0m \u001b[0mj\u001b[0m \u001b[0;34m%\u001b[0m \u001b[0mncx\u001b[0m\u001b[0;34m]\u001b[0m\u001b[0;34m,\u001b[0m \u001b[0my\u001b[0m\u001b[0;34m[\u001b[0m\u001b[0;34m:\u001b[0m\u001b[0;34m,\u001b[0m \u001b[0mj\u001b[0m \u001b[0;34m%\u001b[0m \u001b[0mncy\u001b[0m\u001b[0;34m]\u001b[0m\u001b[0;34m,\u001b[0m \u001b[0mkw\u001b[0m\u001b[0;34m,\u001b[0m \u001b[0mkwargs\u001b[0m\u001b[0;34m)\u001b[0m\u001b[0;34m\u001b[0m\u001b[0;34m\u001b[0m\u001b[0m\n\u001b[0m\u001b[1;32m    406\u001b[0m             \u001b[0mret\u001b[0m\u001b[0;34m.\u001b[0m\u001b[0mappend\u001b[0m\u001b[0;34m(\u001b[0m\u001b[0mseg\u001b[0m\u001b[0;34m)\u001b[0m\u001b[0;34m\u001b[0m\u001b[0;34m\u001b[0m\u001b[0m\n\u001b[1;32m    407\u001b[0m         \u001b[0;32mreturn\u001b[0m \u001b[0mret\u001b[0m\u001b[0;34m\u001b[0m\u001b[0;34m\u001b[0m\u001b[0m\n",
      "\u001b[0;32m~/anaconda3/lib/python3.7/site-packages/matplotlib/axes/_base.py\u001b[0m in \u001b[0;36m_makeline\u001b[0;34m(self, x, y, kw, kwargs)\u001b[0m\n\u001b[1;32m    310\u001b[0m         \u001b[0mdefault_dict\u001b[0m \u001b[0;34m=\u001b[0m \u001b[0mself\u001b[0m\u001b[0;34m.\u001b[0m\u001b[0m_getdefaults\u001b[0m\u001b[0;34m(\u001b[0m\u001b[0mset\u001b[0m\u001b[0;34m(\u001b[0m\u001b[0;34m)\u001b[0m\u001b[0;34m,\u001b[0m \u001b[0mkw\u001b[0m\u001b[0;34m)\u001b[0m\u001b[0;34m\u001b[0m\u001b[0;34m\u001b[0m\u001b[0m\n\u001b[1;32m    311\u001b[0m         \u001b[0mself\u001b[0m\u001b[0;34m.\u001b[0m\u001b[0m_setdefaults\u001b[0m\u001b[0;34m(\u001b[0m\u001b[0mdefault_dict\u001b[0m\u001b[0;34m,\u001b[0m \u001b[0mkw\u001b[0m\u001b[0;34m)\u001b[0m\u001b[0;34m\u001b[0m\u001b[0;34m\u001b[0m\u001b[0m\n\u001b[0;32m--> 312\u001b[0;31m         \u001b[0mseg\u001b[0m \u001b[0;34m=\u001b[0m \u001b[0mmlines\u001b[0m\u001b[0;34m.\u001b[0m\u001b[0mLine2D\u001b[0m\u001b[0;34m(\u001b[0m\u001b[0mx\u001b[0m\u001b[0;34m,\u001b[0m \u001b[0my\u001b[0m\u001b[0;34m,\u001b[0m \u001b[0;34m**\u001b[0m\u001b[0mkw\u001b[0m\u001b[0;34m)\u001b[0m\u001b[0;34m\u001b[0m\u001b[0;34m\u001b[0m\u001b[0m\n\u001b[0m\u001b[1;32m    313\u001b[0m         \u001b[0;32mreturn\u001b[0m \u001b[0mseg\u001b[0m\u001b[0;34m\u001b[0m\u001b[0;34m\u001b[0m\u001b[0m\n\u001b[1;32m    314\u001b[0m \u001b[0;34m\u001b[0m\u001b[0m\n",
      "\u001b[0;32m~/anaconda3/lib/python3.7/site-packages/matplotlib/lines.py\u001b[0m in \u001b[0;36m__init__\u001b[0;34m(self, xdata, ydata, linewidth, linestyle, color, marker, markersize, markeredgewidth, markeredgecolor, markerfacecolor, markerfacecoloralt, fillstyle, antialiased, dash_capstyle, solid_capstyle, dash_joinstyle, solid_joinstyle, pickradius, drawstyle, markevery, **kwargs)\u001b[0m\n\u001b[1;32m    402\u001b[0m         \u001b[0;31m# update kwargs before updating data to give the caller a\u001b[0m\u001b[0;34m\u001b[0m\u001b[0;34m\u001b[0m\u001b[0;34m\u001b[0m\u001b[0m\n\u001b[1;32m    403\u001b[0m         \u001b[0;31m# chance to init axes (and hence unit support)\u001b[0m\u001b[0;34m\u001b[0m\u001b[0;34m\u001b[0m\u001b[0;34m\u001b[0m\u001b[0m\n\u001b[0;32m--> 404\u001b[0;31m         \u001b[0mself\u001b[0m\u001b[0;34m.\u001b[0m\u001b[0mupdate\u001b[0m\u001b[0;34m(\u001b[0m\u001b[0mkwargs\u001b[0m\u001b[0;34m)\u001b[0m\u001b[0;34m\u001b[0m\u001b[0;34m\u001b[0m\u001b[0m\n\u001b[0m\u001b[1;32m    405\u001b[0m         \u001b[0mself\u001b[0m\u001b[0;34m.\u001b[0m\u001b[0mpickradius\u001b[0m \u001b[0;34m=\u001b[0m \u001b[0mpickradius\u001b[0m\u001b[0;34m\u001b[0m\u001b[0;34m\u001b[0m\u001b[0m\n\u001b[1;32m    406\u001b[0m         \u001b[0mself\u001b[0m\u001b[0;34m.\u001b[0m\u001b[0mind_offset\u001b[0m \u001b[0;34m=\u001b[0m \u001b[0;36m0\u001b[0m\u001b[0;34m\u001b[0m\u001b[0;34m\u001b[0m\u001b[0m\n",
      "\u001b[0;32m~/anaconda3/lib/python3.7/site-packages/matplotlib/artist.py\u001b[0m in \u001b[0;36mupdate\u001b[0;34m(self, props)\u001b[0m\n\u001b[1;32m    972\u001b[0m \u001b[0;34m\u001b[0m\u001b[0m\n\u001b[1;32m    973\u001b[0m         \u001b[0;32mwith\u001b[0m \u001b[0mcbook\u001b[0m\u001b[0;34m.\u001b[0m\u001b[0m_setattr_cm\u001b[0m\u001b[0;34m(\u001b[0m\u001b[0mself\u001b[0m\u001b[0;34m,\u001b[0m \u001b[0meventson\u001b[0m\u001b[0;34m=\u001b[0m\u001b[0;32mFalse\u001b[0m\u001b[0;34m)\u001b[0m\u001b[0;34m:\u001b[0m\u001b[0;34m\u001b[0m\u001b[0;34m\u001b[0m\u001b[0m\n\u001b[0;32m--> 974\u001b[0;31m             \u001b[0mret\u001b[0m \u001b[0;34m=\u001b[0m \u001b[0;34m[\u001b[0m\u001b[0m_update_property\u001b[0m\u001b[0;34m(\u001b[0m\u001b[0mself\u001b[0m\u001b[0;34m,\u001b[0m \u001b[0mk\u001b[0m\u001b[0;34m,\u001b[0m \u001b[0mv\u001b[0m\u001b[0;34m)\u001b[0m \u001b[0;32mfor\u001b[0m \u001b[0mk\u001b[0m\u001b[0;34m,\u001b[0m \u001b[0mv\u001b[0m \u001b[0;32min\u001b[0m \u001b[0mprops\u001b[0m\u001b[0;34m.\u001b[0m\u001b[0mitems\u001b[0m\u001b[0;34m(\u001b[0m\u001b[0;34m)\u001b[0m\u001b[0;34m]\u001b[0m\u001b[0;34m\u001b[0m\u001b[0;34m\u001b[0m\u001b[0m\n\u001b[0m\u001b[1;32m    975\u001b[0m \u001b[0;34m\u001b[0m\u001b[0m\n\u001b[1;32m    976\u001b[0m         \u001b[0;32mif\u001b[0m \u001b[0mlen\u001b[0m\u001b[0;34m(\u001b[0m\u001b[0mret\u001b[0m\u001b[0;34m)\u001b[0m\u001b[0;34m:\u001b[0m\u001b[0;34m\u001b[0m\u001b[0;34m\u001b[0m\u001b[0m\n",
      "\u001b[0;32m~/anaconda3/lib/python3.7/site-packages/matplotlib/artist.py\u001b[0m in \u001b[0;36m<listcomp>\u001b[0;34m(.0)\u001b[0m\n\u001b[1;32m    972\u001b[0m \u001b[0;34m\u001b[0m\u001b[0m\n\u001b[1;32m    973\u001b[0m         \u001b[0;32mwith\u001b[0m \u001b[0mcbook\u001b[0m\u001b[0;34m.\u001b[0m\u001b[0m_setattr_cm\u001b[0m\u001b[0;34m(\u001b[0m\u001b[0mself\u001b[0m\u001b[0;34m,\u001b[0m \u001b[0meventson\u001b[0m\u001b[0;34m=\u001b[0m\u001b[0;32mFalse\u001b[0m\u001b[0;34m)\u001b[0m\u001b[0;34m:\u001b[0m\u001b[0;34m\u001b[0m\u001b[0;34m\u001b[0m\u001b[0m\n\u001b[0;32m--> 974\u001b[0;31m             \u001b[0mret\u001b[0m \u001b[0;34m=\u001b[0m \u001b[0;34m[\u001b[0m\u001b[0m_update_property\u001b[0m\u001b[0;34m(\u001b[0m\u001b[0mself\u001b[0m\u001b[0;34m,\u001b[0m \u001b[0mk\u001b[0m\u001b[0;34m,\u001b[0m \u001b[0mv\u001b[0m\u001b[0;34m)\u001b[0m \u001b[0;32mfor\u001b[0m \u001b[0mk\u001b[0m\u001b[0;34m,\u001b[0m \u001b[0mv\u001b[0m \u001b[0;32min\u001b[0m \u001b[0mprops\u001b[0m\u001b[0;34m.\u001b[0m\u001b[0mitems\u001b[0m\u001b[0;34m(\u001b[0m\u001b[0;34m)\u001b[0m\u001b[0;34m]\u001b[0m\u001b[0;34m\u001b[0m\u001b[0;34m\u001b[0m\u001b[0m\n\u001b[0m\u001b[1;32m    975\u001b[0m \u001b[0;34m\u001b[0m\u001b[0m\n\u001b[1;32m    976\u001b[0m         \u001b[0;32mif\u001b[0m \u001b[0mlen\u001b[0m\u001b[0;34m(\u001b[0m\u001b[0mret\u001b[0m\u001b[0;34m)\u001b[0m\u001b[0;34m:\u001b[0m\u001b[0;34m\u001b[0m\u001b[0;34m\u001b[0m\u001b[0m\n",
      "\u001b[0;32m~/anaconda3/lib/python3.7/site-packages/matplotlib/artist.py\u001b[0m in \u001b[0;36m_update_property\u001b[0;34m(self, k, v)\u001b[0m\n\u001b[1;32m    968\u001b[0m                 \u001b[0;32mif\u001b[0m \u001b[0;32mnot\u001b[0m \u001b[0mcallable\u001b[0m\u001b[0;34m(\u001b[0m\u001b[0mfunc\u001b[0m\u001b[0;34m)\u001b[0m\u001b[0;34m:\u001b[0m\u001b[0;34m\u001b[0m\u001b[0;34m\u001b[0m\u001b[0m\n\u001b[1;32m    969\u001b[0m                     raise AttributeError('{!r} object has no property {!r}'\n\u001b[0;32m--> 970\u001b[0;31m                                          .format(type(self).__name__, k))\n\u001b[0m\u001b[1;32m    971\u001b[0m                 \u001b[0;32mreturn\u001b[0m \u001b[0mfunc\u001b[0m\u001b[0;34m(\u001b[0m\u001b[0mv\u001b[0m\u001b[0;34m)\u001b[0m\u001b[0;34m\u001b[0m\u001b[0;34m\u001b[0m\u001b[0m\n\u001b[1;32m    972\u001b[0m \u001b[0;34m\u001b[0m\u001b[0m\n",
      "\u001b[0;31mAttributeError\u001b[0m: 'Line2D' object has no property 'l'"
     ]
    },
    {
     "data": {
      "image/png": "[encoded data removed]",
      "text/plain": [
       "<Figure size 2160x3600 with 2 Axes>"
      ]
     },
     "metadata": {},
     "output_type": "display_data"
    }
   ],
   "source": [
    "sns.set()\n",
    "f,axes=plt.subplots(2,1,sharex=False,figsize=(30,50))\n",
    "\n",
    "axes[0].plot(x,valores)\n",
    "axes[0].vlines(x,[0],valores,color='lightsteelblue',lw=10)\n",
    "\n",
    "axes[0].tick_params(labelsize=40, axis='both')\n",
    "\n",
    "g=sns.distplot(randomv, ax=axes[1], bins=30)\n",
    "axes[1].tick_params(labelsize=40, axis='both')\n",
    "axes[1].set(xlim=(-5,5))"
   ]
  },
  {
   "cell_type": "code",
   "execution_count": 213,
   "metadata": {},
   "outputs": [
    {
     "data": {
      "text/plain": [
       "array([1. , 1.1, 1.2, 1.3, 1.4, 1.5, 1.6, 1.7, 1.8, 1.9, 2. , 2.1, 2.2,\n",
       "       2.3, 2.4, 2.5, 2.6, 2.7, 2.8, 2.9, 3. , 3.1, 3.2, 3.3, 3.4, 3.5,\n",
       "       3.6, 3.7, 3.8, 3.9, 4. , 4.1, 4.2, 4.3, 4.4, 4.5, 4.6, 4.7, 4.8,\n",
       "       4.9, 5. , 5.1, 5.2, 5.3, 5.4, 5.5, 5.6, 5.7, 5.8, 5.9])"
      ]
     },
     "execution_count": 213,
     "metadata": {},
     "output_type": "execute_result"
    }
   ],
   "source": [
    "np.arange(1,6,.1)"
   ]
  },
  {
   "cell_type": "code",
   "execution_count": null,
   "metadata": {},
   "outputs": [],
   "source": []
  }
 ],
 "metadata": {
  "kernelspec": {
   "display_name": "Python 3",
   "language": "python",
   "name": "python3"
  },
  "language_info": {
   "codemirror_mode": {
    "name": "ipython",
    "version": 3
   },
   "file_extension": ".py",
   "mimetype": "text/x-python",
   "name": "python",
   "nbconvert_exporter": "python",
   "pygments_lexer": "ipython3",
   "version": "3.7.6"
  },
  "toc": {
   "base_numbering": 1,
   "nav_menu": {},
   "number_sections": true,
   "sideBar": true,
   "skip_h1_title": false,
   "title_cell": "Table of Contents",
   "title_sidebar": "Contents",
   "toc_cell": false,
   "toc_position": {},
   "toc_section_display": true,
   "toc_window_display": false
  },
  "varInspector": {
   "cols": {
    "lenName": 16,
    "lenType": 16,
    "lenVar": 40
   },
   "kernels_config": {
    "python": {
     "delete_cmd_postfix": "",
     "delete_cmd_prefix": "del ",
     "library": "var_list.py",
     "varRefreshCmd": "print(var_dic_list())"
    },
    "r": {
     "delete_cmd_postfix": ") ",
     "delete_cmd_prefix": "rm(",
     "library": "var_list.r",
     "varRefreshCmd": "cat(var_dic_list()) "
    }
   },
   "types_to_exclude": [
    "module",
    "function",
    "builtin_function_or_method",
    "instance",
    "_Feature"
   ],
   "window_display": false
  }
 },
 "nbformat": 4,
 "nbformat_minor": 2
}
