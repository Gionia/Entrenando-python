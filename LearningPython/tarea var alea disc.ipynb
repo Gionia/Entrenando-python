{
 "cells": [
  {
   "cell_type": "markdown",
   "metadata": {},
   "source": [
    "Hay 10 estudiantes inscritos en una clase de Estadística, de entre los cuales 3 tienen 19 años, 4 tienen 20\n",
    "años, 1 tiene 21 años, 1 tiene 24 años y 1 tiene 26 años. De esta clase se seleccionan dos estudiantes sin\n",
    "reposición. Sea X la edad media de los dos estudiantes seleccionados. Hallar la función de probabilidad\n",
    "para X."
   ]
  },
  {
   "cell_type": "code",
   "execution_count": 60,
   "metadata": {},
   "outputs": [
    {
     "data": {
      "text/plain": [
       "{19.0, 19.5, 20.0, 20.5, 21.0, 21.5, 22.0, 22.5, 23.0, 23.5, 24.0, 25.0, 26.0}"
      ]
     },
     "execution_count": 60,
     "metadata": {},
     "output_type": "execute_result"
    }
   ],
   "source": [
    "omega=[19,19,19,20,20,20,20,21,24,26]\n",
    "X=set(X)\n",
    "for i in range(len(omega)):\n",
    "    for j in range(i,len(omega)):    \n",
    "        X.add((omega[i]+omega[j])/2)\n",
    "        \n",
    "x=list(X)\n",
    "data\n",
    "        \n",
    "            \n",
    "            \n",
    "           \n",
    "        \n",
    "    "
   ]
  },
  {
   "cell_type": "code",
   "execution_count": 56,
   "metadata": {},
   "outputs": [],
   "source": [
    "a=(1,2)\n",
    "b=a[0]+a[1]"
   ]
  },
  {
   "cell_type": "code",
   "execution_count": 57,
   "metadata": {},
   "outputs": [
    {
     "data": {
      "text/plain": [
       "3"
      ]
     },
     "execution_count": 57,
     "metadata": {},
     "output_type": "execute_result"
    }
   ],
   "source": [
    "b"
   ]
  },
  {
   "cell_type": "code",
   "execution_count": null,
   "metadata": {},
   "outputs": [],
   "source": []
  }
 ],
 "metadata": {
  "kernelspec": {
   "display_name": "Python 3",
   "language": "python",
   "name": "python3"
  },
  "language_info": {
   "codemirror_mode": {
    "name": "ipython",
    "version": 3
   },
   "file_extension": ".py",
   "mimetype": "text/x-python",
   "name": "python",
   "nbconvert_exporter": "python",
   "pygments_lexer": "ipython3",
   "version": "3.7.4"
  }
 },
 "nbformat": 4,
 "nbformat_minor": 2
}
