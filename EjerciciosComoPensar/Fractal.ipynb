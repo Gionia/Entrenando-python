{
 "cells": [
  {
   "cell_type": "markdown",
   "metadata": {},
   "source": [
    "El programa puede dibujar el fractal de koch o el fractal de Cesaro, para \n",
    "el calculo del fractal de Cesaro se necesita saber los angulos interiores, y uno de estos es dado por el usuario, en el programa este angulo es llamado angle_top"
   ]
  },
  {
   "cell_type": "code",
   "execution_count": 1,
   "metadata": {
    "code_folding": [],
    "scrolled": false
   },
   "outputs": [
    {
     "name": "stdout",
     "output_type": "stream",
     "text": [
      "Write the degrees: 15\n"
     ]
    }
   ],
   "source": [
    "import turtle\n",
    "import math\n",
    "\n",
    "def fractal(turtoise, order, size, degree):\n",
    "    \n",
    "    \"\"\"Esta funcion crea de manera recursiva el fractal\n",
    "        return-> None\n",
    "        parameters: \n",
    "            turtoise->Object type class\n",
    "            order-> Int \n",
    "            size->int\"\"\"\n",
    "    \n",
    "    if order == 1:\n",
    "        turtoise.forward(size)\n",
    "    else:\n",
    "        angle_base = 90 - degree/2\n",
    "        angle_top = degree -180\n",
    "        \n",
    "        for angle in [angle_base, angle_top, angle_base, 0]:\n",
    "            fractal(turtoise, order-1, size/3, degree)\n",
    "            turtoise.left(angle)\n",
    "    #end of function fractal\n",
    "    \n",
    "screen = turtle.Screen() #This generates the screen where the fractal is drawed\n",
    "screen.title(\"First fractal\")\n",
    "screen.bgcolor(\"blue\")\n",
    "\n",
    "pepe = turtle.Turtle() #This generates the turtoises\n",
    "\n",
    "order = 2\n",
    "size = 400\n",
    "degree = int(input(\"Write the degrees: \"))\n",
    "\n",
    "if order <= 0:\n",
    "    raise Exception(order, \"Debe ser mayor a 0\")\n",
    "else:\n",
    "    \n",
    "    if degree == 60: \n",
    "        angle_koch = 120 #Para hacer el cono los giros son de 60 grados, triangulo\n",
    "        for angle in [angle_koch, angle_koch ,0]:\n",
    "            fractal(pepe, order, size, degree)\n",
    "            pepe.right(angle)\n",
    "            \n",
    "    else:\n",
    "        angle_cesaro = 90 #Se forma un cuadrado en donde en cada lado se repite el frac\n",
    "        position_ = []\n",
    "        for angle in [angle_cesaro,angle_cesaro, angle_cesaro, 0]:\n",
    "            fractal(pepe, order, size, degree)\n",
    "            \n",
    "            position_.append(pepe.position())\n",
    "            pepe.left(angle)\n",
    "            \n",
    "        pepe.right(90)\n",
    "        \n",
    "        pepe.forward(size/4)\n",
    "        pepe.right(90)\n",
    "        \n",
    "        angle_cesaro = 90 #Se forma un cuadrado en donde en cada lado se repite el frac\n",
    "       \n",
    "        x_component = (position_[0][0] - position_[1][0])**2\n",
    "        y_component = (position_[0][1] - position_[1][1])**2\n",
    "        size = x_component + y_component \n",
    "        size = round( math.sqrt(size), 2)   \n",
    "        \n",
    "        for angle in [angle_cesaro,angle_cesaro, angle_cesaro, 0]:\n",
    "            fractal(pepe, order -1, size, degree)\n",
    "            pepe.left(angle)\n",
    "        \n",
    "   #end of conditional else\n",
    "        \n",
    "    \n",
    "     \n",
    "screen.mainloop()"
   ]
  },
  {
   "cell_type": "code",
   "execution_count": 2,
   "metadata": {},
   "outputs": [],
   "source": [
    "position_\n",
    "size = (position_[0][0] - position_[1][0])**2 + (position_[0][1] - position_[1][1])**2"
   ]
  },
  {
   "cell_type": "code",
   "execution_count": 3,
   "metadata": {},
   "outputs": [
    {
     "data": {
      "text/plain": [
       "301.4736512586805"
      ]
     },
     "execution_count": 3,
     "metadata": {},
     "output_type": "execute_result"
    }
   ],
   "source": [
    "math.sqrt(size)\n"
   ]
  },
  {
   "cell_type": "raw",
   "metadata": {},
   "source": [
    "print(position_)"
   ]
  },
  {
   "cell_type": "code",
   "execution_count": 4,
   "metadata": {},
   "outputs": [
    {
     "name": "stdout",
     "output_type": "stream",
     "text": [
      "[(301.47,0.00), (301.47,301.47), (0.00,301.47), (-0.00,0.00)]\n"
     ]
    }
   ],
   "source": [
    "print(position_)"
   ]
  },
  {
   "cell_type": "code",
   "execution_count": null,
   "metadata": {},
   "outputs": [],
   "source": []
  }
 ],
 "metadata": {
  "kernelspec": {
   "display_name": "Python 3",
   "language": "python",
   "name": "python3"
  },
  "language_info": {
   "codemirror_mode": {
    "name": "ipython",
    "version": 3
   },
   "file_extension": ".py",
   "mimetype": "text/x-python",
   "name": "python",
   "nbconvert_exporter": "python",
   "pygments_lexer": "ipython3",
   "version": "3.7.6"
  },
  "toc": {
   "base_numbering": 1,
   "nav_menu": {
    "height": "18.9915px",
    "width": "160px"
   },
   "number_sections": true,
   "sideBar": true,
   "skip_h1_title": false,
   "title_cell": "Table of Contents",
   "title_sidebar": "Contents",
   "toc_cell": false,
   "toc_position": {},
   "toc_section_display": true,
   "toc_window_display": false
  },
  "varInspector": {
   "cols": {
    "lenName": 16,
    "lenType": 16,
    "lenVar": 40
   },
   "kernels_config": {
    "python": {
     "delete_cmd_postfix": "",
     "delete_cmd_prefix": "del ",
     "library": "var_list.py",
     "varRefreshCmd": "print(var_dic_list())"
    },
    "r": {
     "delete_cmd_postfix": ") ",
     "delete_cmd_prefix": "rm(",
     "library": "var_list.r",
     "varRefreshCmd": "cat(var_dic_list()) "
    }
   },
   "types_to_exclude": [
    "module",
    "function",
    "builtin_function_or_method",
    "instance",
    "_Feature"
   ],
   "window_display": false
  }
 },
 "nbformat": 4,
 "nbformat_minor": 4
}
