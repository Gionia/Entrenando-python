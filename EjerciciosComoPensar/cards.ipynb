{
 "cells": [
  {
   "cell_type": "code",
   "execution_count": 180,
   "metadata": {},
   "outputs": [],
   "source": [
    "class Card:\n",
    "    \"\"\" Este metodo crea cartas españolas. Se inicializa con Card(suit, rank) integers\"\"\"\n",
    "    \n",
    "    suits = [\"Clubs\", \"Diamonds\", \"Hearts\", \"Clubs\"]\n",
    "    ranks = [\"narf\", \"Ace\", \"2\", \"3\", \"4\", \"5\", \"6\",\n",
    "             \"7\", \"8\", \"9\", \"10\", \"Jack\", \"Queen\", \"King\"]\n",
    "    \n",
    "    def __init__(self, suit = 0, rank = 0):\n",
    "        self.suit = suit\n",
    "        self.rank = rank\n",
    "        \n",
    "    def __str__(self):\n",
    "        return (self.ranks[self.rank] + \" of \" + self.suits[self.suit])\n",
    "    \n",
    "    def cmp(self, other):\n",
    "        if self.suit > other.suit: return 1\n",
    "        if self.suit < other.suit: return -1\n",
    "        if self.rank > other.rank:\n",
    "            #if self.rank == 13 and other.rank == 1:  ##Ativar cuando Ace sea mayor\n",
    "                #return -1\n",
    "            return 1\n",
    "        if self.rank < other.rank:\n",
    "           # if self.rank == 13 and other.rank == 1:  ##Ativar cuando Ace sea mayor\n",
    "                #return 1\n",
    "            return -1\n",
    "        return 0\n",
    "    \n",
    "    def __eq__(self, other):\n",
    "        return self.cmp(other) == 0\n",
    "    \n",
    "    def __le__(self, other):\n",
    "        return self.cmp(other) <= 0\n",
    "    \n",
    "    def __ge__(self, other):\n",
    "        return self.cmp(other) >= 0\n",
    "    \n",
    "    def __lt__(self, other):\n",
    "        return self.cmp(other) < 0\n",
    "    \n",
    "    def __gt__(self, other):\n",
    "        return self.cmp(other) > 0\n",
    "    \n",
    "    def __ne__(self, other):\n",
    "        return self.cmp(other) != 0"
   ]
  },
  {
   "cell_type": "code",
   "execution_count": 223,
   "metadata": {},
   "outputs": [],
   "source": [
    "class Deck:\n",
    "    \"\"\" Crea un Deck de 52 cartas, no necesita parámetros \"\"\"\n",
    "    \n",
    "    def __init__(self):\n",
    "        self.cards = [Card(suit, rank) \n",
    "                      for suit in range(4) \n",
    "                      for rank in range(1, 14)]\n",
    "        \n",
    "    def __str__(self):\n",
    "        s = \"\"\n",
    "        for i in range(len(self.cards)):\n",
    "            s = s + \" \" * i +  str(self.cards[i]) + \"\\n\"\n",
    "            #end for\n",
    "        return s\n",
    "    \n",
    "    def shuffle(self):\n",
    "        import random\n",
    "        rng = random.Random()\n",
    "        rng.shuffle(self.cards)\n",
    "            #end for\n",
    "        #end function shuffle\n",
    "        \n",
    "    def remove(self, card):\n",
    "        if card in self.cards:\n",
    "            self.cards.remove(card)\n",
    "            return True\n",
    "        return False\n",
    "    \n",
    "    def pop(self):\n",
    "        return self.cards.pop()\n",
    "    \n",
    "    def is_empty(self):\n",
    "        return self.cards == []    \n",
    "        \n",
    "    def deal(self, hands, num_cards=999):\n",
    "        num_hands = len(hands)\n",
    "        for i in range(num_cards):\n",
    "            if self.is_empty():\n",
    "                break\n",
    "            card = self.pop()\n",
    "            hand = hands[i % num_hands]\n",
    "            hand.add(card)"
   ]
  },
  {
   "cell_type": "code",
   "execution_count": 224,
   "metadata": {},
   "outputs": [],
   "source": [
    "class Hand(Deck):\n",
    "    def __init__(self, name = \"\"):\n",
    "        self.cards = []\n",
    "        self.name = name\n",
    "    \n",
    "    def add(self, card):\n",
    "        self.cards.append(card)\n",
    "        \n",
    "    def __str__(self):\n",
    "        s = \"Hand \" + self.name\n",
    "        if self.is_empty():\n",
    "            s += \" is empty\\n\"\n",
    "        else:\n",
    "            s += \" contains\\n\"\n",
    "        return s + Deck.__str__(self)\n",
    "        "
   ]
  },
  {
   "cell_type": "code",
   "execution_count": 225,
   "metadata": {},
   "outputs": [],
   "source": [
    "class CardGame:\n",
    "    def __init__(self):\n",
    "        self.deck = Deck()\n",
    "        self.deck.shuffle()\n",
    "    "
   ]
  },
  {
   "cell_type": "code",
   "execution_count": 226,
   "metadata": {},
   "outputs": [],
   "source": [
    "hand = Hand(\"Giovanny\")"
   ]
  },
  {
   "cell_type": "code",
   "execution_count": 227,
   "metadata": {},
   "outputs": [],
   "source": [
    "deck.deal([hand], 6)"
   ]
  },
  {
   "cell_type": "code",
   "execution_count": 228,
   "metadata": {},
   "outputs": [
    {
     "name": "stdout",
     "output_type": "stream",
     "text": [
      "Hand Giovanny contains\n",
      "9 of Clubs\n",
      " King of Clubs\n",
      "  4 of Diamonds\n",
      "   Queen of Diamonds\n",
      "    7 of Diamonds\n",
      "     9 of Clubs\n",
      "\n"
     ]
    }
   ],
   "source": [
    "print(hand)"
   ]
  },
  {
   "cell_type": "code",
   "execution_count": null,
   "metadata": {},
   "outputs": [],
   "source": []
  }
 ],
 "metadata": {
  "kernelspec": {
   "display_name": "Python 3",
   "language": "python",
   "name": "python3"
  },
  "language_info": {
   "codemirror_mode": {
    "name": "ipython",
    "version": 3
   },
   "file_extension": ".py",
   "mimetype": "text/x-python",
   "name": "python",
   "nbconvert_exporter": "python",
   "pygments_lexer": "ipython3",
   "version": "3.7.6"
  },
  "toc": {
   "base_numbering": 1,
   "nav_menu": {},
   "number_sections": true,
   "sideBar": true,
   "skip_h1_title": false,
   "title_cell": "Table of Contents",
   "title_sidebar": "Contents",
   "toc_cell": false,
   "toc_position": {},
   "toc_section_display": true,
   "toc_window_display": false
  },
  "varInspector": {
   "cols": {
    "lenName": 16,
    "lenType": 16,
    "lenVar": 40
   },
   "kernels_config": {
    "python": {
     "delete_cmd_postfix": "",
     "delete_cmd_prefix": "del ",
     "library": "var_list.py",
     "varRefreshCmd": "print(var_dic_list())"
    },
    "r": {
     "delete_cmd_postfix": ") ",
     "delete_cmd_prefix": "rm(",
     "library": "var_list.r",
     "varRefreshCmd": "cat(var_dic_list()) "
    }
   },
   "types_to_exclude": [
    "module",
    "function",
    "builtin_function_or_method",
    "instance",
    "_Feature"
   ],
   "window_display": false
  }
 },
 "nbformat": 4,
 "nbformat_minor": 4
}
