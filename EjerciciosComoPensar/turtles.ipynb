{
 "cells": [
  {
   "cell_type": "code",
   "execution_count": null,
   "metadata": {},
   "outputs": [],
   "source": [
    "import turtle\n",
    "window = turtle.Screen()\n",
    "alex = turtle.Turtle()\n",
    "alex.color(\"red\")\n",
    "i = 0\n",
    "while i < 2000:\n",
    "    alex.forward(1) \n",
    "    alex.right(1)\n",
    "    alex.forward(3)\n",
    "    alex.left(30)\n",
    "    i+=1\n",
    "window.mainloop()"
   ]
  },
  {
   "cell_type": "code",
   "execution_count": null,
   "metadata": {},
   "outputs": [],
   "source": [
    "n = 30298\n",
    "count = 0\n",
    "while n != 0:\n",
    "    count+=1\n",
    "    n = n//10\n",
    "print(f\"El numero de decimales es {count}\")"
   ]
  },
  {
   "cell_type": "code",
   "execution_count": null,
   "metadata": {},
   "outputs": [],
   "source": [
    "lista = [2, 4, 6, 7, 8, 9, 12, 13]\n",
    "for element in lista:\n",
    "    if element%2 == 1:\n",
    "        continue\n",
    "    print(f\"{element}\", end = \",\")"
   ]
  },
  {
   "cell_type": "code",
   "execution_count": null,
   "metadata": {},
   "outputs": [],
   "source": [
    "import turtle\n",
    "\n",
    "def draw_multicolor_square(animal, size):\n",
    "    \"\"\"Make animal draw a multi-color square of given size.\"\"\"\n",
    "    for color in [\"red\", \"purple\", \"hotpink\", \"blue\"]:\n",
    "        animal.color(color)\n",
    "        animal.forward(size)\n",
    "        animal.left(90)\n",
    "\n",
    "window = turtle.Screen()\n",
    "window.bgcolor(\"lightgreen\")\n",
    "# Set up the window and its attributes\n",
    "\n",
    "tess = turtle.Turtle()\n",
    "tess.pensize(3)\n",
    "# Create tess and set some attributes\n",
    "\n",
    "size = 20\n",
    "# Size of the smallest square\n",
    "for _ in range(15):\n",
    "    draw_multicolor_square(tess, size)\n",
    "    size += 10\n",
    "# Increase the size for next time\n",
    "    tess.forward(10)\n",
    "# Move tess along a little\n",
    "    tess.right(18)\n",
    "#and give her some turn\n",
    "\n",
    "window.mainloop()"
   ]
  },
  {
   "cell_type": "code",
   "execution_count": null,
   "metadata": {},
   "outputs": [],
   "source": [
    "import turtle\n",
    "tamanio = 50\n",
    "def crea_tortuga(colore, size):\n",
    "    tortuga = turtle.Turtle()\n",
    "    tortuga.color(colore)\n",
    "    tortuga.pensize(size)\n",
    "    return tortuga\n",
    "\n",
    "def crea_escenario(color, titulo):\n",
    "    escena = turtle.Screen()\n",
    "    escena.bgcolor(color)\n",
    "    escena.title(titulo)\n",
    "    return escena\n",
    "\n",
    "def make_square(animal, size):\n",
    "    i = 0\n",
    "    while i < 5:\n",
    "        animal.forward(size)\n",
    "        animal.right(144)\n",
    "        i+=1\n",
    "        \n",
    "tortuga = crea_tortuga(\"red\", 2)\n",
    "crea_escenario(\"pink\", \"tortuguitaBonita\")\n",
    "j = 0\n",
    "while j < 5:\n",
    "    make_square(tortuga, tamanio)\n",
    "    tortuga.forward(50)\n",
    "    tortuga.right(72)\n",
    "    tortuga.color(\"pink\")\n",
    "    tortuga.forward(tamanio)\n",
    "    tortuga.color(\"red\")\n",
    "    \n",
    "   \n",
    "    j+=1\n",
    "\n",
    "turtle.mainloop()"
   ]
  },
  {
   "cell_type": "code",
   "execution_count": 4,
   "metadata": {},
   "outputs": [
    {
     "data": {
      "text/plain": [
       "[(0, 'b'), (1, 'a'), (2, 'n'), (3, 'a'), (4, 'n'), (5, 'a')]"
      ]
     },
     "execution_count": 4,
     "metadata": {},
     "output_type": "execute_result"
    }
   ],
   "source": [
    "fruta = \"banana\"\n",
    "list(enumerate(fruta))\n",
    "    "
   ]
  },
  {
   "cell_type": "code",
   "execution_count": 9,
   "metadata": {},
   "outputs": [
    {
     "data": {
      "text/plain": [
       "5"
      ]
     },
     "execution_count": 9,
     "metadata": {},
     "output_type": "execute_result"
    }
   ],
   "source": [
    "from collections import deque\n",
    "lista = [2, 3, 3, 4, 5]\n",
    "lista.pop()"
   ]
  },
  {
   "cell_type": "code",
   "execution_count": 18,
   "metadata": {},
   "outputs": [
    {
     "data": {
      "text/plain": [
       "(2,)"
      ]
     },
     "execution_count": 18,
     "metadata": {},
     "output_type": "execute_result"
    }
   ],
   "source": [
    "queue = deque(lista)\n",
    "listado = (2,)\n",
    "listado"
   ]
  },
  {
   "cell_type": "code",
   "execution_count": 12,
   "metadata": {},
   "outputs": [
    {
     "data": {
      "text/plain": [
       "deque([2, 3, 3, 4])"
      ]
     },
     "execution_count": 12,
     "metadata": {},
     "output_type": "execute_result"
    }
   ],
   "source": [
    "queue"
   ]
  },
  {
   "cell_type": "code",
   "execution_count": 13,
   "metadata": {},
   "outputs": [
    {
     "data": {
      "text/plain": [
       "2"
      ]
     },
     "execution_count": 13,
     "metadata": {},
     "output_type": "execute_result"
    }
   ],
   "source": [
    "queue.popleft()"
   ]
  },
  {
   "cell_type": "code",
   "execution_count": 14,
   "metadata": {},
   "outputs": [
    {
     "data": {
      "text/plain": [
       "deque([3, 3, 4])"
      ]
     },
     "execution_count": 14,
     "metadata": {},
     "output_type": "execute_result"
    }
   ],
   "source": [
    "queue"
   ]
  },
  {
   "cell_type": "code",
   "execution_count": 15,
   "metadata": {},
   "outputs": [
    {
     "data": {
      "text/plain": [
       "[3, 3, 4]"
      ]
     },
     "execution_count": 15,
     "metadata": {},
     "output_type": "execute_result"
    }
   ],
   "source": [
    "list(queue)"
   ]
  },
  {
   "cell_type": "code",
   "execution_count": 20,
   "metadata": {},
   "outputs": [
    {
     "name": "stdout",
     "output_type": "stream",
     "text": [
      "El area es 314.1593 y el perimetro es 62.832\n"
     ]
    }
   ],
   "source": [
    "import math\n",
    "\n",
    "def circulo(radio):\n",
    "    perimetro = 2 * math.pi * radio\n",
    "    area = math.pi * radio**2\n",
    "    \n",
    "    return (perimetro, area)\n",
    "\n",
    "perimetro, area = circulo(10)\n",
    "print(f\"El area es {area:.4f} y el perimetro es {perimetro:.3f}\")\n",
    "    "
   ]
  },
  {
   "cell_type": "code",
   "execution_count": null,
   "metadata": {},
   "outputs": [],
   "source": []
  }
 ],
 "metadata": {
  "kernelspec": {
   "display_name": "Python 3",
   "language": "python",
   "name": "python3"
  },
  "language_info": {
   "codemirror_mode": {
    "name": "ipython",
    "version": 3
   },
   "file_extension": ".py",
   "mimetype": "text/x-python",
   "name": "python",
   "nbconvert_exporter": "python",
   "pygments_lexer": "ipython3",
   "version": "3.7.6"
  },
  "toc": {
   "base_numbering": 1,
   "nav_menu": {},
   "number_sections": true,
   "sideBar": true,
   "skip_h1_title": false,
   "title_cell": "Table of Contents",
   "title_sidebar": "Contents",
   "toc_cell": false,
   "toc_position": {},
   "toc_section_display": true,
   "toc_window_display": false
  },
  "varInspector": {
   "cols": {
    "lenName": 16,
    "lenType": 16,
    "lenVar": 40
   },
   "kernels_config": {
    "python": {
     "delete_cmd_postfix": "",
     "delete_cmd_prefix": "del ",
     "library": "var_list.py",
     "varRefreshCmd": "print(var_dic_list())"
    },
    "r": {
     "delete_cmd_postfix": ") ",
     "delete_cmd_prefix": "rm(",
     "library": "var_list.r",
     "varRefreshCmd": "cat(var_dic_list()) "
    }
   },
   "types_to_exclude": [
    "module",
    "function",
    "builtin_function_or_method",
    "instance",
    "_Feature"
   ],
   "window_display": false
  }
 },
 "nbformat": 4,
 "nbformat_minor": 4
}
