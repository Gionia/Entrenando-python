{
 "cells": [
  {
   "cell_type": "code",
   "execution_count": 1,
   "metadata": {},
   "outputs": [],
   "source": [
    "class Card:\n",
    "    suits = [\"Clubs\", \"Diamonds\", \"Hearts\", \"Clubs\"]\n",
    "    ranks = [\"narf\", \"Ace\", \"2\", \"3\", \"4\", \"5\", \"6\",\n",
    "             \"7\", \"8\", \"9\", \"Jack\", \"Queen\", \"King\"]\n",
    "    \n",
    "    def __init__(self, suit = 0, rank = 0):\n",
    "        self.suit = suit\n",
    "        self.rank = rank\n",
    "        \n",
    "    def __str__(self):\n",
    "        return (self.ranks[self.rank] + \" of \" + self.suits[self.suit])\n",
    "    \n",
    "    def cmp(self, other):\n",
    "        if self.suit > other.suit: return 1\n",
    "        if self.suit < other.suit: return -1\n",
    "        if self.rank > other.suit: return 1\n",
    "        if self.rank < other.rank: return -1\n",
    "        return 0\n",
    "    \n",
    "    def __eq__(self, other):\n",
    "        return self.cmp(other) == 0\n",
    "    \n",
    "    def __le__(self, other):\n",
    "        return self.cmp(other) <= 0\n",
    "    \n",
    "    def __ge__(self, other):\n",
    "        return self.cmp(other) >= 0\n",
    "    \n",
    "    def __lt__(self, other):\n",
    "        return self.cmp(other) < 0\n",
    "    \n",
    "    def __gt__(self, other):\n",
    "        return self.cmp(other) > 0\n",
    "    \n",
    "    def __ne__(self, other):\n",
    "        return self.cmp(other) != 0"
   ]
  },
  {
   "cell_type": "code",
   "execution_count": 28,
   "metadata": {},
   "outputs": [],
   "source": [
    "class Deck:\n",
    "    def __init__(self):\n",
    "        self.cards = [Card(suit, rank) \n",
    "                      for suit in range(4) \n",
    "                      for rank in range(1, 14)]\n",
    "        \n",
    "    def __str__(self):\n",
    "        for i in range(len(self.cards)):\n",
    "            s = str(self.cards[i])\n",
    "        return f\"jols {3} + s\"\n",
    "            "
   ]
  },
  {
   "cell_type": "code",
   "execution_count": 29,
   "metadata": {},
   "outputs": [],
   "source": [
    "three_of_clubs = Card(0, 3)\n",
    "card1 = Card(1, 11)\n",
    "red_deck = Deck()\n",
    "blue_deck = Deck()"
   ]
  },
  {
   "cell_type": "code",
   "execution_count": 30,
   "metadata": {},
   "outputs": [
    {
     "name": "stdout",
     "output_type": "stream",
     "text": [
      "False\n"
     ]
    }
   ],
   "source": [
    "print(card1 == three_of_clubs)"
   ]
  }
 ],
 "metadata": {
  "kernelspec": {
   "display_name": "Python 3",
   "language": "python",
   "name": "python3"
  },
  "language_info": {
   "codemirror_mode": {
    "name": "ipython",
    "version": 3
   },
   "file_extension": ".py",
   "mimetype": "text/x-python",
   "name": "python",
   "nbconvert_exporter": "python",
   "pygments_lexer": "ipython3",
   "version": "3.7.6"
  },
  "toc": {
   "base_numbering": 1,
   "nav_menu": {},
   "number_sections": true,
   "sideBar": true,
   "skip_h1_title": false,
   "title_cell": "Table of Contents",
   "title_sidebar": "Contents",
   "toc_cell": false,
   "toc_position": {},
   "toc_section_display": true,
   "toc_window_display": false
  },
  "varInspector": {
   "cols": {
    "lenName": 16,
    "lenType": 16,
    "lenVar": 40
   },
   "kernels_config": {
    "python": {
     "delete_cmd_postfix": "",
     "delete_cmd_prefix": "del ",
     "library": "var_list.py",
     "varRefreshCmd": "print(var_dic_list())"
    },
    "r": {
     "delete_cmd_postfix": ") ",
     "delete_cmd_prefix": "rm(",
     "library": "var_list.r",
     "varRefreshCmd": "cat(var_dic_list()) "
    }
   },
   "types_to_exclude": [
    "module",
    "function",
    "builtin_function_or_method",
    "instance",
    "_Feature"
   ],
   "window_display": false
  }
 },
 "nbformat": 4,
 "nbformat_minor": 4
}
