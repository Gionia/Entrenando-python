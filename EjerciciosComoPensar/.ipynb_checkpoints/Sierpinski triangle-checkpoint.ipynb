{
 "cells": [
  {
   "cell_type": "markdown",
   "metadata": {},
   "source": [
    "Sierpinski triangle"
   ]
  },
  {
   "cell_type": "code",
   "execution_count": 1,
   "metadata": {},
   "outputs": [
    {
     "name": "stdout",
     "output_type": "stream",
     "text": [
      "Ingrese el tamanio de la figura 200\n",
      "Ingrese el orden de el fractal 3\n"
     ]
    }
   ],
   "source": [
    "import math \n",
    "import turtle\n",
    "\n",
    "global ANGLE\n",
    "global color_screen\n",
    "global SIZE\n",
    "global ORDER\n",
    "\n",
    "ANGLE = 120 #el angulo necesario para rear un triangulo equilatero\n",
    "color_screen = \"green\"\n",
    "SIZE = int(input(\"Ingrese el tamanio de la figura \"))\n",
    "ORDER = int(input(\"Ingrese el orden de el fractal \"))"
   ]
  },
  {
   "cell_type": "code",
   "execution_count": 2,
   "metadata": {},
   "outputs": [],
   "source": [
    "screen = turtle.Screen()\n",
    "screen.bgcolor(color_screen)\n",
    "screen.title(\"Sierpinski Triangle\")\n",
    "\n",
    "artist = turtle.Turtle()"
   ]
  },
  {
   "cell_type": "code",
   "execution_count": 3,
   "metadata": {},
   "outputs": [],
   "source": [
    "def position_normal(turtoise, lista):\n",
    "    \n",
    "    \"\"\"  Esta funcion pocisiona el apuntador en vertice derecho de\n",
    "         la base del triangulo \"\"\"\n",
    "    \n",
    "    turtoise.penup() #levanta el lapiz para dejar de dibujar\n",
    "    for angles, mov in lista:#se mueve en una posicion especifica, usualmente \n",
    "        turtoise.lt(angles)# se posiciona para iniciar en el vertice izq de la base\n",
    "        turtoise.fd(mov)\n",
    "    turtoise.pendown()# una vez posicionado se vuelve a bajar el lapiz\n",
    "#end position_normal"
   ]
  },
  {
   "cell_type": "code",
   "execution_count": 4,
   "metadata": {},
   "outputs": [],
   "source": [
    "def draw_triangle(turtoise, size):\n",
    "    for ang in [ANGLE, ANGLE, ANGLE]:\n",
    "        turtoise.forward(size)\n",
    "        turtoise.left(ANGLE)\n",
    "#end function draw:triangle"
   ]
  },
  {
   "cell_type": "code",
   "execution_count": 5,
   "metadata": {},
   "outputs": [],
   "source": [
    "def sierpinski_triangle(turtoise, order, size):\n",
    "    \"\"\"Este es el nucleo del programa y aqui se implementa la recursividad\n",
    "       El caso base es de orden cero y dibuja un triangulo\n",
    "       \"\"\"\n",
    "    if order == 0:\n",
    "        draw_triangle(turtoise, size)\n",
    "    elif order == 1:\n",
    "        \n",
    "        for ang in [0, 120, -60]:\n",
    "            sierpinski_triangle(turtoise, order-1, size/2)\n",
    "            lista = [(ang,size/2), (-ang, 0)]\n",
    "            position_normal(turtoise, lista)\n",
    "            \n",
    "        position_normal(turtoise, [(0,size/2)])\n",
    "    else:\n",
    "        sierpinski_triangle(turtoise, order-1, size/2)\n",
    "        sierpinski_triangle(turtoise, order-1, size/2)\n",
    "        List = [(120, size/2), (60, size/2), (180, 0)]# los primeros elementos de \n",
    "        position_normal(turtoise, List)# la tupla son los angulos, el otro es el mov\n",
    "        sierpinski_triangle(turtoise, order-1, size/2)\n",
    "        List2 = [(-60, size/2), (60, 0)]\n",
    "        position_normal(turtoise, List2)\n",
    "#end function sierpinski_triangle "
   ]
  },
  {
   "cell_type": "code",
   "execution_count": 6,
   "metadata": {},
   "outputs": [],
   "source": [
    "sierpinski_triangle(artist, ORDER, SIZE)\n",
    "screen.mainloop()    "
   ]
  },
  {
   "cell_type": "code",
   "execution_count": null,
   "metadata": {},
   "outputs": [],
   "source": []
  },
  {
   "cell_type": "code",
   "execution_count": null,
   "metadata": {},
   "outputs": [],
   "source": []
  }
 ],
 "metadata": {
  "kernelspec": {
   "display_name": "Python 3",
   "language": "python",
   "name": "python3"
  },
  "language_info": {
   "codemirror_mode": {
    "name": "ipython",
    "version": 3
   },
   "file_extension": ".py",
   "mimetype": "text/x-python",
   "name": "python",
   "nbconvert_exporter": "python",
   "pygments_lexer": "ipython3",
   "version": "3.7.6"
  },
  "toc": {
   "base_numbering": 1,
   "nav_menu": {},
   "number_sections": true,
   "sideBar": true,
   "skip_h1_title": false,
   "title_cell": "Table of Contents",
   "title_sidebar": "Contents",
   "toc_cell": false,
   "toc_position": {},
   "toc_section_display": true,
   "toc_window_display": false
  },
  "varInspector": {
   "cols": {
    "lenName": 16,
    "lenType": 16,
    "lenVar": 40
   },
   "kernels_config": {
    "python": {
     "delete_cmd_postfix": "",
     "delete_cmd_prefix": "del ",
     "library": "var_list.py",
     "varRefreshCmd": "print(var_dic_list())"
    },
    "r": {
     "delete_cmd_postfix": ") ",
     "delete_cmd_prefix": "rm(",
     "library": "var_list.r",
     "varRefreshCmd": "cat(var_dic_list()) "
    }
   },
   "types_to_exclude": [
    "module",
    "function",
    "builtin_function_or_method",
    "instance",
    "_Feature"
   ],
   "window_display": false
  }
 },
 "nbformat": 4,
 "nbformat_minor": 4
}
